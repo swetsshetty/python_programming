{
  "nbformat": 4,
  "nbformat_minor": 0,
  "metadata": {
    "colab": {
      "provenance": []
    },
    "kernelspec": {
      "name": "python3",
      "display_name": "Python 3"
    },
    "language_info": {
      "name": "python"
    }
  },
  "cells": [
    {
      "cell_type": "markdown",
      "source": [
        "Exp1"
      ],
      "metadata": {
        "id": "Quikoqqb-I4Y"
      }
    },
    {
      "cell_type": "markdown",
      "source": [
        "A) Write a python program to add two numbers using a simple method and input method"
      ],
      "metadata": {
        "id": "n80-yomP_HbW"
      }
    },
    {
      "cell_type": "code",
      "source": [
        "#Addition of two numbers:SIMPLE METHOD\n",
        "a=56.6\n",
        "b=45.5\n",
        "sum=a+b\n",
        "print(\"Addition of two numbers:\",sum)\n",
        "\n"
      ],
      "metadata": {
        "id": "TSb4o4D8LUCF",
        "colab": {
          "base_uri": "https://localhost:8080/"
        },
        "outputId": "c38cce98-5203-4427-8bc8-919f14453330"
      },
      "execution_count": null,
      "outputs": [
        {
          "output_type": "stream",
          "name": "stdout",
          "text": [
            "Addition of two numbers: 102.1\n"
          ]
        }
      ]
    },
    {
      "cell_type": "code",
      "source": [
        "#By using Input Method:addition\n",
        "num1= float(input(\"Enter Number 1:\"))\n",
        "num2=float(input(\"Enter number 2:\"))\n",
        "print(\"addition of two numbers:\",num1*num2)"
      ],
      "metadata": {
        "id": "jJ5J8yCfP0Pl",
        "colab": {
          "base_uri": "https://localhost:8080/"
        },
        "outputId": "89620c5c-5376-4818-c989-a979824e4e97"
      },
      "execution_count": null,
      "outputs": [
        {
          "output_type": "stream",
          "name": "stdout",
          "text": [
            "Enter Number 1:23\n",
            "Enter number 2:3\n",
            "addition of two numbers: 69.0\n"
          ]
        }
      ]
    },
    {
      "cell_type": "markdown",
      "source": [
        "B) Write a python program to add n numbers."
      ],
      "metadata": {
        "id": "ewAEhatbLVjw"
      }
    },
    {
      "cell_type": "code",
      "source": [
        "#using while loop\n",
        "n=int(input(\"Enter number:\"))\n",
        "if n<0:\n",
        "   print(\"Enter positive number.\")\n",
        "else:\n",
        "   sum=0\n",
        "   while(n>0):\n",
        "         sum+=n # sum+n=sum\n",
        "         n-=1   #n-1\n",
        "         #print(\"The sum is:\", sum)  \n",
        "   print(\"the total is:\",sum)      "
      ],
      "metadata": {
        "id": "c21-3hD1LbNZ",
        "colab": {
          "base_uri": "https://localhost:8080/"
        },
        "outputId": "b055829a-a345-44f1-a357-5cd6a3ec8221"
      },
      "execution_count": null,
      "outputs": [
        {
          "output_type": "stream",
          "name": "stdout",
          "text": [
            "Enter number:350\n",
            "the total is: 61425\n"
          ]
        }
      ]
    },
    {
      "cell_type": "code",
      "source": [
        "#using for loop\n",
        "n=int(input(\"Enter number:\"))\n",
        "if n<0:\n",
        "   print(\"Enter positive number.\")\n",
        "else:\n",
        "   sum=0\n",
        "   for i in range(n+1):\n",
        "       sum+=i\n",
        "   print(\"The sum is:\", sum)\n"
      ],
      "metadata": {
        "colab": {
          "base_uri": "https://localhost:8080/"
        },
        "id": "aQw-JNhlQEVb",
        "outputId": "624deb37-effa-432a-b101-f8205f6bca84"
      },
      "execution_count": null,
      "outputs": [
        {
          "output_type": "stream",
          "name": "stdout",
          "text": [
            "Enter number:3\n",
            "The sum is: 6\n"
          ]
        }
      ]
    },
    {
      "cell_type": "markdown",
      "source": [],
      "metadata": {
        "id": "2243XPPsQD9K"
      }
    },
    {
      "cell_type": "markdown",
      "source": [
        " C) Write a python program to find the largest number among three numbers."
      ],
      "metadata": {
        "id": "67fiX4GxLcPz"
      }
    },
    {
      "cell_type": "code",
      "source": [
        "num1=float(input(\"Enter number 1:\"))\n",
        "num2=float(input(\"Enter number 2:\"))\n",
        "num3=float(input(\"Enter number 3:\"))\n",
        "if (num1 > num3) and (num1 > num2):\n",
        "    largest= num1\n",
        "elif (num2 > num3) and (num2 > num1):\n",
        "    largest=num2\n",
        "else:\n",
        "     largest= num3\n",
        "print(\"The largest number is:\", largest) "
      ],
      "metadata": {
        "id": "WpcRJ-ZeLdFM",
        "colab": {
          "base_uri": "https://localhost:8080/"
        },
        "outputId": "33cc44cc-6bf9-4f87-b637-e1562bbae186"
      },
      "execution_count": null,
      "outputs": [
        {
          "output_type": "stream",
          "name": "stdout",
          "text": [
            "Enter number 1:56\n",
            "Enter number 2:569\n",
            "Enter number 3:1236\n",
            "The largest number is: 1236.0\n"
          ]
        }
      ]
    },
    {
      "cell_type": "code",
      "source": [
        "list1=[1,2,3,'sakaec', [3,'ab'],67.5]\n",
        "print(list1)"
      ],
      "metadata": {
        "colab": {
          "base_uri": "https://localhost:8080/"
        },
        "id": "Mu7y3RQKMlcW",
        "outputId": "4df2a86f-177b-45ea-bda1-2a50846956f4"
      },
      "execution_count": null,
      "outputs": [
        {
          "output_type": "stream",
          "name": "stdout",
          "text": [
            "[1, 2, 3, 'sakaec', [3, 'ab'], 67.5]\n"
          ]
        }
      ]
    },
    {
      "cell_type": "code",
      "source": [
        "datalist =[ 1,[1001,\"John\",45.5],[1002, \"Sandra\", 56.5]]\n",
        "print(datalist[1][2])"
      ],
      "metadata": {
        "colab": {
          "base_uri": "https://localhost:8080/"
        },
        "id": "VEQew-ONIDJ1",
        "outputId": "f11a62c6-3c53-42a7-a230-37ffbbdafabb"
      },
      "execution_count": null,
      "outputs": [
        {
          "output_type": "stream",
          "name": "stdout",
          "text": [
            "45.5\n"
          ]
        }
      ]
    },
    {
      "cell_type": "code",
      "source": [
        "list1=[23,67,12,'sakec']\n",
        "print(list1[-4])\n"
      ],
      "metadata": {
        "colab": {
          "base_uri": "https://localhost:8080/"
        },
        "id": "lJaLlEeSN9t2",
        "outputId": "0d48ae18-c1fb-40a9-d3fe-b1387622022f"
      },
      "execution_count": null,
      "outputs": [
        {
          "output_type": "stream",
          "name": "stdout",
          "text": [
            "23\n"
          ]
        }
      ]
    },
    {
      "cell_type": "code",
      "source": [
        "datalist = [23,45,31,53,62]\n",
        "print(datalist[0:3])\n",
        "print(datalist[2:4])\n",
        "print(datalist[:-4])\n",
        "print(datalist[-4:])\n",
        "print(datalist[-4:-2])\n",
        "print(datalist[:])\n"
      ],
      "metadata": {
        "colab": {
          "base_uri": "https://localhost:8080/"
        },
        "id": "zxUBd38wOQmk",
        "outputId": "1d676c90-523c-45c1-85c7-99656ebeda99"
      },
      "execution_count": null,
      "outputs": [
        {
          "output_type": "stream",
          "name": "stdout",
          "text": [
            "[23, 45, 31]\n",
            "[31, 53]\n",
            "[23]\n",
            "[45, 31, 53, 62]\n",
            "[45, 31]\n",
            "[23, 45, 31, 53, 62]\n"
          ]
        }
      ]
    },
    {
      "cell_type": "code",
      "source": [
        "datalist = [23,45,31,53,62]\n",
        "datalist.append(39)\n",
        "print(datalist)\n",
        "datalist.extend([76,23,15])\n",
        "print(datalist)\n"
      ],
      "metadata": {
        "colab": {
          "base_uri": "https://localhost:8080/"
        },
        "id": "dUIUOS13QSmm",
        "outputId": "0e302e5c-087c-4957-d616-ac28bb1df4bb"
      },
      "execution_count": null,
      "outputs": [
        {
          "output_type": "stream",
          "name": "stdout",
          "text": [
            "[23, 45, 31, 53, 62, 39]\n",
            "[23, 45, 31, 53, 62, 39, 76, 23, 15]\n"
          ]
        }
      ]
    },
    {
      "cell_type": "code",
      "source": [
        "datalist = [23,45,31,53,62]\n",
        "datalist.append(39)\n",
        "print(datalist)\n",
        "datalist.extend([76,23,15])\n",
        "print(datalist)\n",
        "datalist.insert(2,62)\n",
        "print(datalist)\n",
        "datalist.remove(23)\n",
        "print(datalist)\n",
        "print(datalist.index(53))\n",
        "print(datalist.count(62))\n",
        "datalist.pop()\n",
        "print(datalist)\n",
        "print(datalist.copy())\n",
        "datalist.reverse()\n",
        "print(datalist)\n",
        "datalist.sort()\n",
        "print(datalist)\n",
        "print(datalist.clear())\n"
      ],
      "metadata": {
        "colab": {
          "base_uri": "https://localhost:8080/"
        },
        "id": "CbEHsBWFQ3nX",
        "outputId": "c73aada0-285e-497d-c55f-806be4faab3d"
      },
      "execution_count": null,
      "outputs": [
        {
          "output_type": "stream",
          "name": "stdout",
          "text": [
            "[23, 45, 31, 53, 62, 39]\n",
            "[23, 45, 31, 53, 62, 39, 76, 23, 15]\n",
            "[23, 45, 62, 31, 53, 62, 39, 76, 23, 15]\n",
            "[45, 62, 31, 53, 62, 39, 76, 23, 15]\n",
            "3\n",
            "2\n",
            "[45, 62, 31, 53, 62, 39, 76, 23]\n",
            "[45, 62, 31, 53, 62, 39, 76, 23]\n",
            "[23, 76, 39, 62, 53, 31, 62, 45]\n",
            "[23, 31, 39, 45, 53, 62, 62, 76]\n",
            "None\n"
          ]
        }
      ]
    },
    {
      "cell_type": "code",
      "source": [
        "list1=[1,2,4,3]\n",
        "list2=[1,2,5,8]\n",
        "list3=[1,2,5,8,10]\n",
        "list4=[1,2,4,3]\n",
        "print cmp(list1,list2)\n",
        "print(\"Comparison of list2 with list3(larger size) : \")\n",
        "print cmp(list2, list3)\n",
        "print (\"Comparison of list4 with list1(equal) : \")\n",
        "print cmp(list4, list1)\n"
      ],
      "metadata": {
        "colab": {
          "base_uri": "https://localhost:8080/",
          "height": 130
        },
        "id": "N6r8IrhMRvtu",
        "outputId": "065e0cee-5848-40a8-8859-1ecf6bcc8d0d"
      },
      "execution_count": null,
      "outputs": [
        {
          "output_type": "error",
          "ename": "SyntaxError",
          "evalue": "ignored",
          "traceback": [
            "\u001b[0;36m  File \u001b[0;32m\"<ipython-input-29-2fdeb34ccd9f>\"\u001b[0;36m, line \u001b[0;32m5\u001b[0m\n\u001b[0;31m    print cmp(list1,list2)\u001b[0m\n\u001b[0m            ^\u001b[0m\n\u001b[0;31mSyntaxError\u001b[0m\u001b[0;31m:\u001b[0m invalid syntax\n"
          ]
        }
      ]
    },
    {
      "cell_type": "code",
      "source": [
        "datalist = [23,45,31,53,62]\n",
        "print(len(datalist))\n",
        "print(max(datalist))\n",
        "print(min(datalist))\n"
      ],
      "metadata": {
        "colab": {
          "base_uri": "https://localhost:8080/"
        },
        "id": "paU9Tc7AS_sW",
        "outputId": "380fbef2-dc1a-4caf-c9c8-8ca60355e144"
      },
      "execution_count": null,
      "outputs": [
        {
          "output_type": "stream",
          "name": "stdout",
          "text": [
            "5\n",
            "62\n",
            "23\n"
          ]
        }
      ]
    },
    {
      "cell_type": "code",
      "source": [
        "even=[i for i in range(500) if i%2==0]\n",
        "print(even)\n",
        "odd=[i for i in range(500) if i%2 !=0]\n",
        "print(odd)\n"
      ],
      "metadata": {
        "colab": {
          "base_uri": "https://localhost:8080/"
        },
        "id": "3QNl9aj8TTFN",
        "outputId": "26a49ce9-703c-458e-fd90-6ad2ca077942"
      },
      "execution_count": null,
      "outputs": [
        {
          "output_type": "stream",
          "name": "stdout",
          "text": [
            "[0, 2, 4, 6, 8, 10, 12, 14, 16, 18, 20, 22, 24, 26, 28, 30, 32, 34, 36, 38, 40, 42, 44, 46, 48, 50, 52, 54, 56, 58, 60, 62, 64, 66, 68, 70, 72, 74, 76, 78, 80, 82, 84, 86, 88, 90, 92, 94, 96, 98, 100, 102, 104, 106, 108, 110, 112, 114, 116, 118, 120, 122, 124, 126, 128, 130, 132, 134, 136, 138, 140, 142, 144, 146, 148, 150, 152, 154, 156, 158, 160, 162, 164, 166, 168, 170, 172, 174, 176, 178, 180, 182, 184, 186, 188, 190, 192, 194, 196, 198, 200, 202, 204, 206, 208, 210, 212, 214, 216, 218, 220, 222, 224, 226, 228, 230, 232, 234, 236, 238, 240, 242, 244, 246, 248, 250, 252, 254, 256, 258, 260, 262, 264, 266, 268, 270, 272, 274, 276, 278, 280, 282, 284, 286, 288, 290, 292, 294, 296, 298, 300, 302, 304, 306, 308, 310, 312, 314, 316, 318, 320, 322, 324, 326, 328, 330, 332, 334, 336, 338, 340, 342, 344, 346, 348, 350, 352, 354, 356, 358, 360, 362, 364, 366, 368, 370, 372, 374, 376, 378, 380, 382, 384, 386, 388, 390, 392, 394, 396, 398, 400, 402, 404, 406, 408, 410, 412, 414, 416, 418, 420, 422, 424, 426, 428, 430, 432, 434, 436, 438, 440, 442, 444, 446, 448, 450, 452, 454, 456, 458, 460, 462, 464, 466, 468, 470, 472, 474, 476, 478, 480, 482, 484, 486, 488, 490, 492, 494, 496, 498]\n",
            "[1, 3, 5, 7, 9, 11, 13, 15, 17, 19, 21, 23, 25, 27, 29, 31, 33, 35, 37, 39, 41, 43, 45, 47, 49, 51, 53, 55, 57, 59, 61, 63, 65, 67, 69, 71, 73, 75, 77, 79, 81, 83, 85, 87, 89, 91, 93, 95, 97, 99, 101, 103, 105, 107, 109, 111, 113, 115, 117, 119, 121, 123, 125, 127, 129, 131, 133, 135, 137, 139, 141, 143, 145, 147, 149, 151, 153, 155, 157, 159, 161, 163, 165, 167, 169, 171, 173, 175, 177, 179, 181, 183, 185, 187, 189, 191, 193, 195, 197, 199, 201, 203, 205, 207, 209, 211, 213, 215, 217, 219, 221, 223, 225, 227, 229, 231, 233, 235, 237, 239, 241, 243, 245, 247, 249, 251, 253, 255, 257, 259, 261, 263, 265, 267, 269, 271, 273, 275, 277, 279, 281, 283, 285, 287, 289, 291, 293, 295, 297, 299, 301, 303, 305, 307, 309, 311, 313, 315, 317, 319, 321, 323, 325, 327, 329, 331, 333, 335, 337, 339, 341, 343, 345, 347, 349, 351, 353, 355, 357, 359, 361, 363, 365, 367, 369, 371, 373, 375, 377, 379, 381, 383, 385, 387, 389, 391, 393, 395, 397, 399, 401, 403, 405, 407, 409, 411, 413, 415, 417, 419, 421, 423, 425, 427, 429, 431, 433, 435, 437, 439, 441, 443, 445, 447, 449, 451, 453, 455, 457, 459, 461, 463, 465, 467, 469, 471, 473, 475, 477, 479, 481, 483, 485, 487, 489, 491, 493, 495, 497, 499]\n"
          ]
        }
      ]
    },
    {
      "cell_type": "code",
      "source": [
        "datalist = [23,45,31,53,62]\n",
        "print(11 in datalist)\n",
        "print(45 in datalist)\n"
      ],
      "metadata": {
        "colab": {
          "base_uri": "https://localhost:8080/"
        },
        "id": "wSQ_4UIfTiB8",
        "outputId": "e3292cf4-78c9-434c-adcc-34ee7340ec01"
      },
      "execution_count": null,
      "outputs": [
        {
          "output_type": "stream",
          "name": "stdout",
          "text": [
            "False\n",
            "True\n"
          ]
        }
      ]
    },
    {
      "cell_type": "code",
      "source": [
        "list1=[]\n",
        "num = int(input(\"Enter number of elements in list:  \"))\n",
        "for i in range(1,num+1):\n",
        "     e=int(input(\"Enter elements:   \"))\n",
        "     list1.append(e)\n",
        "print(\"Largest element is:\", max(list1))\n"
      ],
      "metadata": {
        "colab": {
          "base_uri": "https://localhost:8080/"
        },
        "id": "iQ_-M2Zkdn7V",
        "outputId": "c3de3bd9-3f35-4d0e-ee1d-65ed6822f215"
      },
      "execution_count": null,
      "outputs": [
        {
          "output_type": "stream",
          "name": "stdout",
          "text": [
            "Enter number of elements in list:  5\n",
            "Enter elements:   34\n",
            "Enter elements:   45\n",
            "Enter elements:   67\n",
            "Enter elements:   89\n",
            "Enter elements:   100\n",
            "Largest element is: 100\n"
          ]
        }
      ]
    }
  ]
}