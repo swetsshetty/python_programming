{
  "nbformat": 4,
  "nbformat_minor": 0,
  "metadata": {
    "colab": {
      "provenance": [],
      "collapsed_sections": []
    },
    "kernelspec": {
      "name": "python3",
      "display_name": "Python 3"
    },
    "language_info": {
      "name": "python"
    }
  },
  "cells": [
    {
      "cell_type": "code",
      "source": [
        "class account:\n",
        "\n",
        "  def __init__(self,cust_id,name,initial_bal=0):\n",
        "  \n",
        "  def get_balance(self):\n",
        "\n",
        "  def deposit(self,ammount):\n",
        "\n",
        "  def withdraw(self,ammount):\n",
        "\n",
        "\n",
        "customer1=account(\"101\",\"ABC\")\n"
      ],
      "metadata": {
        "id": "ePRSLEGcNf4u"
      },
      "execution_count": null,
      "outputs": []
    },
    {
      "cell_type": "markdown",
      "source": [
        "INRODUCTION TO OBJECT ORIENTED CLASS\n",
        "\n",
        "\n",
        "\n",
        "INIT METHOD- ATRRIBUTES-ID, NAME, INITIAL BALANCE\n",
        "\n",
        "\n",
        "\n",
        "METHODS- TO DESCRIBE BEHAVIOUR-GETBALANCE, WITHDRAW, DEPOSIT "
      ],
      "metadata": {
        "id": "KizBAcfashsT"
      }
    },
    {
      "cell_type": "code",
      "source": [
        "#customer account\n",
        "#everytime a customer opens an account : ID, NAME AND INITIAL BALANCE WILL BE SAVED\n",
        "class account:\n",
        "  def __init__(self,cust_id,name,initial_bal=0):\n",
        "    self.id=cust_id\n",
        "    self.name=name\n",
        "    self.balance=initial_bal\n",
        "\n",
        "\n",
        "    #METHOD TO GET BALANCE \n",
        "  def get_balance(self):\n",
        "    return self.balance\n",
        "\n",
        "    #METHOD TO DEPOSIT \n",
        "  def deposit(self,ammount):\n",
        "    self.balance=self.balance+ammount\n",
        "    return self.balance\n",
        "\n",
        "    #METHOD TO WITHDRAW\n",
        "  def withdraw(self,ammount):\n",
        "    if ammount> self.balance:\n",
        "      return \"insufficient balance\"\n",
        "    else:\n",
        "      self.balance=self.balance-ammount\n",
        "      return self.balance\n",
        "\n",
        "\n",
        "customer1=account(\"101\",\"ABC\") # OBJECT\n",
        "\n",
        "print(customer1.id)   ## accesing the class variable\n",
        "\n",
        "customer1.deposit(5000)\n",
        "print(customer1.get_balance())\n",
        "print(customer1.__dict__)\n",
        "\n",
        "\n",
        "customer2=account(\"102\",\"XYZ\") # OBJECT\n",
        "print(customer2.get_balance())\n",
        "print(customer2.deposit(5000))\n",
        "print(customer2.withdraw(500))\n",
        "\n",
        "#print(customer2.withdraw(50000))\n",
        "\n",
        "\n",
        "customer3=account(\"103\",\"PQR\") # OBJECT\n",
        "customer3.deposit(5000)\n",
        "customer3.deposit(1000)\n",
        "customer3.deposit(5000)\n",
        "\n",
        "\n",
        "\n",
        "l= [customer1,customer2,customer3] # list of objects\n",
        "# to display the customer name whose balance is less than 10000\n",
        "for obj in l:\n",
        "  if obj.balance<10000:\n",
        "    print(obj.name)\n",
        "\n"
      ],
      "metadata": {
        "colab": {
          "base_uri": "https://localhost:8080/"
        },
        "id": "wiQhqtNq5PzF",
        "outputId": "376067e7-7063-455e-98f0-5c7dd37c4ed5"
      },
      "execution_count": null,
      "outputs": [
        {
          "output_type": "stream",
          "name": "stdout",
          "text": [
            "101\n",
            "5000\n",
            "{'id': '101', 'name': 'ABC', 'balance': 5000}\n",
            "0\n",
            "5000\n",
            "4500\n",
            "ABC\n",
            "XYZ\n"
          ]
        }
      ]
    },
    {
      "cell_type": "markdown",
      "source": [
        "Private variable "
      ],
      "metadata": {
        "id": "KfyoBhSIMF9q"
      }
    },
    {
      "cell_type": "code",
      "source": [
        "class account:\n",
        "  def __init__(self,cust_id,name,initial_bal=0):\n",
        "    self.__id=cust_id\n",
        "    self.__name=name\n",
        "    self.__balance=initial_bal\n",
        "  def get_balance(self):\n",
        "    return self.__balance\n",
        "  def deposit(self,ammount):\n",
        "    self.__balance=self.__balance+ammount\n",
        "    return self.__balance\n",
        "  def withdraw(self,ammount):\n",
        "    if ammount> self.__balance:\n",
        "      return \"insufficient balance\"\n",
        "    else:\n",
        "      self.__balance=self.__balance-ammount\n",
        "      return self.__balance\n",
        "customer1=account(\"101\",\"ABC\") # OBJECT\n",
        "print(customer1.deposit(5000))\n",
        "print(customer1.get_balance())\n",
        "#print(customer1.id) # trying to access private variable of class\n",
        "customer2=account(\"102\",\"XYZ\") # OBJECT\n",
        "\n",
        "\n",
        "print(customer1.__dict__) # prints all the variable present for the particular object\n",
        "print(customer1._account__id) # this is how it is saved hence able to access\n",
        "\n",
        "print(customer1._account__name)\n",
        "\n",
        "print(customer2.__dict__)\n",
        "\n"
      ],
      "metadata": {
        "colab": {
          "base_uri": "https://localhost:8080/"
        },
        "id": "tso8qrB772uT",
        "outputId": "59bae024-3907-401b-d7c2-b71103693431"
      },
      "execution_count": null,
      "outputs": [
        {
          "output_type": "stream",
          "name": "stdout",
          "text": [
            "5000\n",
            "5000\n",
            "{'_account__id': '101', '_account__name': 'ABC', '_account__balance': 5000}\n",
            "101\n",
            "ABC\n",
            "{'_account__id': '102', '_account__name': 'XYZ', '_account__balance': 0}\n"
          ]
        }
      ]
    },
    {
      "cell_type": "markdown",
      "source": [
        "Class variable"
      ],
      "metadata": {
        "id": "n4yrxuQY91_x"
      }
    },
    {
      "cell_type": "code",
      "source": [
        "class account:\n",
        "  count=0\n",
        "\n",
        "\n",
        "  def __init__(self,cust_id,name,initial_bal=0): # 1st arguement is instance\n",
        "    self.id=cust_id\n",
        "    self.name=name\n",
        "    self.balance=initial_bal\n",
        "    account.count+=1\n",
        "\n",
        "  def get_balance(self):\n",
        "    return self.balance\n",
        "  def deposit(self,ammount):\n",
        "    self.balance=self.balance+ammount\n",
        "    return self.balance\n",
        "  def withdraw(self,ammount):\n",
        "    if ammount> self.balance:\n",
        "      return \"insufficient balance\"\n",
        "    else:\n",
        "      self.balance=self.balance-ammount\n",
        "      return self.balance\n",
        "\n",
        "\n",
        "customer1=account(\"101\",\"ABC\") # OBJECT\n",
        "customer2=account(\"102\",\"XYZ\")\n",
        "\n",
        "print(account.count) # ACCESING CLASS VARAIBLE\n",
        "\n",
        "print(customer1.count)\n",
        "\n",
        "account.count+=5 # modify using class name- update the value across all the instances\n",
        "print(account.count) \n",
        "print(customer1.count)\n",
        "print(customer1.__dict__)   \n",
        "customer1.count=100\n",
        "print(customer1.count)\n",
        "print(account.count)                        # modify using object name- it will create a new variable in name space of customer 1\n",
        "\n",
        "\n",
        "print(customer1.__dict__)                     # name space of customer1\n",
        "                       #name space of account\n",
        "#print(customer1.count)\n",
        "\n",
        "\n",
        "\n",
        "\n"
      ],
      "metadata": {
        "colab": {
          "base_uri": "https://localhost:8080/"
        },
        "id": "ORHWwQsLFQ7j",
        "outputId": "8fb5d866-3b40-45a0-9998-fb78eaa1e283"
      },
      "execution_count": null,
      "outputs": [
        {
          "output_type": "stream",
          "name": "stdout",
          "text": [
            "2\n",
            "2\n",
            "7\n",
            "7\n",
            "{'id': '101', 'name': 'ABC', 'balance': 0}\n",
            "100\n",
            "7\n",
            "{'id': '101', 'name': 'ABC', 'balance': 0, 'count': 100}\n"
          ]
        }
      ]
    },
    {
      "cell_type": "markdown",
      "source": [
        "CLASS METHOD AND STATIC METHOD\n",
        "\n",
        "1.   DEfine INIT: to work on with object or instance \n",
        "2.   define class method: to work with clas varaibles\n",
        "3. static method: completly independent whcih is not accesing class variable or oinstance variable\n",
        "\n"
      ],
      "metadata": {
        "id": "V9utAAyxKhP3"
      }
    },
    {
      "cell_type": "code",
      "source": [
        "class account:\n",
        "  count=0\n",
        "  @classmethod\n",
        "  def inc_count(cls): # 1st arguemnt is class itself whereas for instance method first variable is object instance\n",
        "    cls.count+=1\n",
        "\n",
        "  @classmethod\n",
        "  def get_count(cls): # 1st arguemnt is class itself\n",
        "    return cls.count\n",
        "\n",
        "\n",
        "  @staticmethod\n",
        "  def print_val():  # no arguement\n",
        "    print(\"static method in account\")\n",
        "    \n",
        "  def __init__(self,cust_id,name,initial_bal=0): # 1st arguement is instance\n",
        "    self.id=cust_id\n",
        "    self.name=name\n",
        "    self.balance=initial_bal\n",
        "    account.inc_count()\n",
        "\n",
        "  def get_balance(self):\n",
        "    return self.balance\n",
        "  def deposit(self,ammount):\n",
        "    self.balance=self.balance+ammount\n",
        "    return self.balance\n",
        "  def withdraw(self,ammount):\n",
        "    if ammount> self.balance:\n",
        "      return \"insufficient balance\"\n",
        "    else:\n",
        "      self.balance=self.balance-ammount\n",
        "      return self.balance\n",
        "\n",
        "customer1=account(\"101\",\"ABC\")\n",
        "customer2=account(\"102\",\"XYZ\")\n",
        "customer3=account(\"103\",\"PQR\")\n",
        "\n",
        "\n",
        "print(account.get_count())\n",
        "\n",
        "#to access static method\n",
        "account.print_val()  #can directly access through classs name\n",
        "\n"
      ],
      "metadata": {
        "colab": {
          "base_uri": "https://localhost:8080/"
        },
        "id": "eqdgi_4WIr4T",
        "outputId": "76b453e9-152f-435f-f554-428b3f971bac"
      },
      "execution_count": null,
      "outputs": [
        {
          "output_type": "stream",
          "name": "stdout",
          "text": [
            "3\n",
            "static method in account\n"
          ]
        }
      ]
    },
    {
      "cell_type": "markdown",
      "source": [
        "Inheritance:It is a way of creating a new class for using details of an existing class without modifying it. The newly formed class is a derived class (or child class). Similarly, the existing class is a base class (or parent class)."
      ],
      "metadata": {
        "id": "_assW9YB97GI"
      }
    },
    {
      "cell_type": "code",
      "source": [
        "class account:\n",
        "  def __init__(self,cust_id,name,initial_bal=0):\n",
        "    self.__id=cust_id\n",
        "    self.__name=name\n",
        "    self.__balance=initial_bal\n",
        "  def get_balance(self):\n",
        "    return self.__balance\n",
        "  def deposit(self,ammount):\n",
        "    self.__balance=self.__balance+ammount\n",
        "    return self.__balance\n",
        "  def withdraw(self,ammount):\n",
        "    if ammount> self.__balance:\n",
        "      return \"insufficient balance\"\n",
        "    else:\n",
        "      self.balance=self.__balance-ammount\n",
        "      return self.__balance\n",
        "\n",
        "\n",
        "\n",
        "\n",
        "class saving_account(account):\n",
        "  pass\n",
        "  \n",
        "cust1=saving_account(\"101\",\"ABC\")\n",
        "\n",
        "\n",
        "print(cust1.__dict__)\n",
        "\n",
        "help(cust1)"
      ],
      "metadata": {
        "id": "dFfrNQgUKeAJ",
        "colab": {
          "base_uri": "https://localhost:8080/"
        },
        "outputId": "54b9f555-72a8-4a4f-e4f8-dd1cf652222f"
      },
      "execution_count": null,
      "outputs": [
        {
          "output_type": "stream",
          "name": "stdout",
          "text": [
            "{'_account__id': '101', '_account__name': 'ABC', '_account__balance': 0}\n",
            "Help on saving_account in module __main__ object:\n",
            "\n",
            "class saving_account(account)\n",
            " |  saving_account(cust_id, name, initial_bal=0)\n",
            " |  \n",
            " |  Method resolution order:\n",
            " |      saving_account\n",
            " |      account\n",
            " |      builtins.object\n",
            " |  \n",
            " |  Methods inherited from account:\n",
            " |  \n",
            " |  __init__(self, cust_id, name, initial_bal=0)\n",
            " |      Initialize self.  See help(type(self)) for accurate signature.\n",
            " |  \n",
            " |  deposit(self, ammount)\n",
            " |  \n",
            " |  get_balance(self)\n",
            " |  \n",
            " |  withdraw(self, ammount)\n",
            " |  \n",
            " |  ----------------------------------------------------------------------\n",
            " |  Data descriptors inherited from account:\n",
            " |  \n",
            " |  __dict__\n",
            " |      dictionary for instance variables (if defined)\n",
            " |  \n",
            " |  __weakref__\n",
            " |      list of weak references to the object (if defined)\n",
            "\n"
          ]
        }
      ]
    },
    {
      "cell_type": "code",
      "source": [
        "class account:\n",
        "  def __init__(self,cust_id,name,initial_bal=0):\n",
        "    self.__id=cust_id\n",
        "    self.__name=name\n",
        "    self.__balance=initial_bal\n",
        "  def get_balance(self):\n",
        "    return self.__balance\n",
        "  def deposit(self,ammount):\n",
        "    self.__balance=self.__balance+ammount\n",
        "    return self.__balance\n",
        "  def withdraw(self,ammount):\n",
        "    if ammount> self.__balance:\n",
        "      return \"insufficient balance\"\n",
        "    else:\n",
        "      self.__balance=self.__balance-ammount\n",
        "      return self.__balance\n",
        "\n",
        "\n",
        "class saving_account(account):\n",
        "  def __init__(self,cust_id,name,initial_bal=0):\n",
        "    super().__init__(id,name,initial_bal)\n",
        "    self.limit=50000\n",
        "  def withdraw(self,ammount): # method overiding: same name as parant class but implementation is diffrent\n",
        "    if ammount < self.limit:\n",
        "      new_bal=super().withdraw(ammount)\n",
        "      self.limit-=ammount\n",
        "      return new_bal\n",
        "    else:\n",
        "      print(\"daily limit reached\")\n",
        "\n",
        "\n",
        "cust1=saving_account(\"101\",\"ABC\")\n",
        "\n",
        "print(cust1.__dict__)\n",
        "print(cust1.deposit(80000))\n",
        "print(cust1.withdraw(40000))\n",
        "print(cust1.withdraw(40000))\n"
      ],
      "metadata": {
        "colab": {
          "base_uri": "https://localhost:8080/"
        },
        "id": "FfX94gj5_dcU",
        "outputId": "f151e136-3651-417b-d98d-04b0c6e082c2"
      },
      "execution_count": null,
      "outputs": [
        {
          "output_type": "stream",
          "name": "stdout",
          "text": [
            "{'_account__id': <built-in function id>, '_account__name': 'ABC', '_account__balance': 0, 'limit': 50000}\n",
            "80000\n",
            "40000\n",
            "daily limit reached\n",
            "None\n"
          ]
        }
      ]
    },
    {
      "cell_type": "markdown",
      "source": [
        "Multiple inhertance"
      ],
      "metadata": {
        "id": "Mu8Bf3SBBrig"
      }
    },
    {
      "cell_type": "markdown",
      "source": [],
      "metadata": {
        "id": "nE4ckh6y_dAE"
      }
    },
    {
      "cell_type": "code",
      "source": [
        "\n",
        "\n",
        "\n",
        "class a:\n",
        "  pass\n",
        "class b:\n",
        "  pass\n",
        "class c(a,b):\n",
        "  pass\n",
        "obj=c()\n",
        "help(obj)\n",
        "\n",
        "#class c(b,c):\n",
        "#  pass\n",
        "#obj=c()\n",
        "#help(obj)"
      ],
      "metadata": {
        "colab": {
          "base_uri": "https://localhost:8080/"
        },
        "id": "gwHnt159CZph",
        "outputId": "0c31f618-6782-4cc0-9cc9-daa414600aea"
      },
      "execution_count": null,
      "outputs": [
        {
          "output_type": "stream",
          "name": "stdout",
          "text": [
            "Help on c in module __main__ object:\n",
            "\n",
            "class c(a, b)\n",
            " |  Method resolution order:\n",
            " |      c\n",
            " |      a\n",
            " |      b\n",
            " |      builtins.object\n",
            " |  \n",
            " |  Data descriptors inherited from a:\n",
            " |  \n",
            " |  __dict__\n",
            " |      dictionary for instance variables (if defined)\n",
            " |  \n",
            " |  __weakref__\n",
            " |      list of weak references to the object (if defined)\n",
            "\n"
          ]
        }
      ]
    }
  ]
}