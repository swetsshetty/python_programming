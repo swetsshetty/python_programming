{
  "nbformat": 4,
  "nbformat_minor": 0,
  "metadata": {
    "colab": {
      "provenance": [],
      "collapsed_sections": []
    },
    "kernelspec": {
      "name": "python3",
      "display_name": "Python 3"
    },
    "language_info": {
      "name": "python"
    }
  },
  "cells": [
    {
      "cell_type": "markdown",
      "source": [
        "#operators"
      ],
      "metadata": {
        "id": "pnAAMy4tFWqn"
      }
    },
    {
      "cell_type": "markdown",
      "source": [
        "Arithematic operators"
      ],
      "metadata": {
        "id": "rMqsZ4ZYsKnS"
      }
    },
    {
      "cell_type": "code",
      "source": [
        "num1=20\n",
        "num2=5\n",
        "print(num1+num2)\n",
        "print(num1-num2)\n",
        "print(num1*num2)\n",
        "print(num1/num2)\n",
        "print(10//3)\n",
        "print(num1%num2)\n",
        "print(num1**num2)\n",
        "print(5 ** 3) \n",
        "\n",
        "num3=num1+num2\n",
        "print(\"The sum of input numbers is:\",num3)"
      ],
      "metadata": {
        "colab": {
          "base_uri": "https://localhost:8080/"
        },
        "id": "n2C2HoGbFZaL",
        "outputId": "8173c4f4-6cfd-464b-849e-323497011b69"
      },
      "execution_count": null,
      "outputs": [
        {
          "output_type": "stream",
          "name": "stdout",
          "text": [
            "25\n",
            "15\n",
            "100\n",
            "4.0\n",
            "3\n",
            "0\n",
            "3200000\n",
            "125\n",
            "The sum of input numbers is: 25\n"
          ]
        }
      ]
    },
    {
      "cell_type": "markdown",
      "source": [
        "Relational operators"
      ],
      "metadata": {
        "id": "2bIRIagkGdJR"
      }
    },
    {
      "cell_type": "code",
      "source": [
        "num1= input('Enter first number')\n",
        "num2= input('Enter second number')\n",
        "print(num1==num2)\n",
        "print(num1>num2)\n",
        "print(num1!=num2)\n",
        "print(num1 < num2)\n"
      ],
      "metadata": {
        "colab": {
          "base_uri": "https://localhost:8080/"
        },
        "id": "vcM9Ui0eGjcp",
        "outputId": "ed1fc918-40db-4410-81f2-8e08aacee1dc"
      },
      "execution_count": null,
      "outputs": [
        {
          "output_type": "stream",
          "name": "stdout",
          "text": [
            "Enter first number23\n",
            "Enter second number34\n",
            "False\n",
            "False\n",
            "True\n",
            "True\n"
          ]
        }
      ]
    },
    {
      "cell_type": "markdown",
      "source": [
        "Identity operators:"
      ],
      "metadata": {
        "id": "SY8OLs3_GHjP"
      }
    },
    {
      "cell_type": "code",
      "source": [
        "num1=100\n",
        "num2=100\n",
        "num3=100\n",
        "print(num1==num2)\n",
        "print(num1 is num2)\n",
        "print(id(num1))\n",
        "print(id(num2))\n",
        "print(id(num3))"
      ],
      "metadata": {
        "colab": {
          "base_uri": "https://localhost:8080/"
        },
        "id": "TAEjJA2jG6bs",
        "outputId": "4f29d29c-3f95-4345-e081-87e14bdf470f"
      },
      "execution_count": null,
      "outputs": [
        {
          "output_type": "stream",
          "name": "stdout",
          "text": [
            "True\n",
            "True\n",
            "94374902339168\n",
            "94374902339168\n",
            "94374902339168\n"
          ]
        }
      ]
    },
    {
      "cell_type": "markdown",
      "source": [
        "Diffrence between equal and identity"
      ],
      "metadata": {
        "id": "xLiY0ptPHIDi"
      }
    },
    {
      "cell_type": "code",
      "source": [
        "num2=20\n",
        "num3=20\n",
        "print(id(num2))\n",
        "print(id(num3))"
      ],
      "metadata": {
        "id": "4rlyB_0tPQPT",
        "colab": {
          "base_uri": "https://localhost:8080/"
        },
        "outputId": "35f8ea03-7b04-40f3-d749-04e38c91cb85"
      },
      "execution_count": null,
      "outputs": [
        {
          "output_type": "stream",
          "name": "stdout",
          "text": [
            "94904927124576\n",
            "94904927124576\n"
          ]
        }
      ]
    },
    {
      "cell_type": "code",
      "source": [
        "l= [10,20]\n",
        "l2= [10,20]\n",
        "print(l==l2)# compares the value\n",
        "print(l is l2)# compares the memory location\n",
        "print(id(l))\n",
        "print(id(l2))\n"
      ],
      "metadata": {
        "colab": {
          "base_uri": "https://localhost:8080/"
        },
        "id": "J0DQFHpHHMEO",
        "outputId": "e2e7a036-d22c-4f39-adc7-c2ec6c0dcd8d"
      },
      "execution_count": null,
      "outputs": [
        {
          "output_type": "stream",
          "name": "stdout",
          "text": [
            "True\n",
            "False\n",
            "140112906037680\n",
            "140112906036240\n"
          ]
        }
      ]
    },
    {
      "cell_type": "markdown",
      "source": [
        "Assignment Operators"
      ],
      "metadata": {
        "id": "erTpwSL4H1U6"
      }
    },
    {
      "cell_type": "code",
      "source": [
        "num1=100\n",
        "num1= num1+5\n",
        "print(num1)\n",
        "num1+= 5\n",
        "print(num1)\n",
        "num1-= 5\n",
        "print(num1)\n"
      ],
      "metadata": {
        "colab": {
          "base_uri": "https://localhost:8080/"
        },
        "id": "einfamU5H4UT",
        "outputId": "f0d6b03c-3427-48c1-8beb-242e41ffbc56"
      },
      "execution_count": null,
      "outputs": [
        {
          "output_type": "stream",
          "name": "stdout",
          "text": [
            "105\n",
            "110\n",
            "105\n"
          ]
        }
      ]
    },
    {
      "cell_type": "markdown",
      "source": [
        "Bitwise operators "
      ],
      "metadata": {
        "id": "Xoj8Y7gpIKFe"
      }
    },
    {
      "cell_type": "code",
      "source": [
        "num1= 1\n",
        "num2=1\n",
        "print(num1 & num2) # converts into binary,perform & operation and then convert back to integer\n",
        "print(num1<< 1) \n"
      ],
      "metadata": {
        "colab": {
          "base_uri": "https://localhost:8080/"
        },
        "id": "O7a3afWWIOtf",
        "outputId": "c0960024-8a9f-4226-aa4c-ec8d0da9eef3"
      },
      "execution_count": null,
      "outputs": [
        {
          "output_type": "stream",
          "name": "stdout",
          "text": [
            "1\n",
            "2\n"
          ]
        }
      ]
    },
    {
      "cell_type": "markdown",
      "source": [
        "logical operators"
      ],
      "metadata": {
        "id": "IU90W-3LIfxE"
      }
    },
    {
      "cell_type": "code",
      "source": [
        "print(10==10 and 20==20)\n",
        "print(10==15 and 20==20)\n",
        "print(10==15 or 20==20)\n",
        "print(not(10==10))"
      ],
      "metadata": {
        "colab": {
          "base_uri": "https://localhost:8080/"
        },
        "id": "UXURu0uDIgvL",
        "outputId": "7552587b-267a-4d58-a934-80ab5cd729bc"
      },
      "execution_count": null,
      "outputs": [
        {
          "output_type": "stream",
          "name": "stdout",
          "text": [
            "True\n",
            "False\n",
            "True\n",
            "False\n"
          ]
        }
      ]
    },
    {
      "cell_type": "markdown",
      "source": [
        "Membership operators:"
      ],
      "metadata": {
        "id": "PtMRyW-FItX1"
      }
    },
    {
      "cell_type": "code",
      "source": [
        "l=[10,20,30]\n",
        "print(20 in l) # ans true\n",
        "print(200 in l) # ans false\n",
        "print(200  not in l)# ans true\n"
      ],
      "metadata": {
        "colab": {
          "base_uri": "https://localhost:8080/"
        },
        "id": "T8p3f6SMIzoT",
        "outputId": "31898bf0-e105-488e-d754-599e59984eb3"
      },
      "execution_count": null,
      "outputs": [
        {
          "output_type": "stream",
          "name": "stdout",
          "text": [
            "True\n",
            "False\n",
            "True\n"
          ]
        }
      ]
    },
    {
      "cell_type": "markdown",
      "source": [
        "DATA TYPES"
      ],
      "metadata": {
        "id": "_43NMJ-JJDsp"
      }
    },
    {
      "cell_type": "code",
      "source": [
        "#NUMERIC DATA TYPES\n",
        "# Integer: \n",
        "num1=100\n",
        "print(num1, type(num1))\n",
        "# Float: \n",
        "num2= 32.5\n",
        "print(num2, type(num2))\n",
        "#complex: \n",
        "num3= 2+ 5j\n",
        "print(num3, type(num3))\n",
        "\n",
        "# bool\n",
        "a= True\n",
        "print(a, type(a))\n",
        "\n",
        "s='python'\n",
        "print(s,type(s))\n",
        " "
      ],
      "metadata": {
        "colab": {
          "base_uri": "https://localhost:8080/"
        },
        "id": "WoHPZdT7JGub",
        "outputId": "253dcb7c-8823-41ec-cdaf-aa6949296170"
      },
      "execution_count": null,
      "outputs": [
        {
          "output_type": "stream",
          "name": "stdout",
          "text": [
            "100 <class 'int'>\n",
            "32.5 <class 'float'>\n",
            "(2+5j) <class 'complex'>\n",
            "True <class 'bool'>\n",
            "python <class 'str'>\n"
          ]
        }
      ]
    },
    {
      "cell_type": "markdown",
      "source": [
        "STRING"
      ],
      "metadata": {
        "id": "KH6AUlGMNqGa"
      }
    },
    {
      "cell_type": "code",
      "source": [
        "# string\n",
        "\n",
        "s= \"python\"\n",
        "print(s,type(s))\n",
        "\n",
        "#if i want to print  'python' is immutable\n",
        "#s=\"'python' is immutable\"\n",
        "#print(s)"
      ],
      "metadata": {
        "id": "UkJqKBWVNtds",
        "colab": {
          "base_uri": "https://localhost:8080/"
        },
        "outputId": "de80426d-94cc-4c72-ee10-c8207c059735"
      },
      "execution_count": null,
      "outputs": [
        {
          "output_type": "stream",
          "name": "stdout",
          "text": [
            "python <class 'str'>\n"
          ]
        }
      ]
    },
    {
      "cell_type": "markdown",
      "source": [
        "LIST"
      ],
      "metadata": {
        "id": "ufZYlDCPNwWb"
      }
    },
    {
      "cell_type": "code",
      "source": [
        "l= [10, 20, \"python\"]\n",
        "print(l, type(l))\n",
        "\n",
        "#TUPLE\n",
        "t= (10,20,30)\n",
        "print(t, type(t))\n"
      ],
      "metadata": {
        "colab": {
          "base_uri": "https://localhost:8080/"
        },
        "id": "jKAmre8ONzgN",
        "outputId": "6bd63281-31af-4fb1-a6a0-c8a683fa9ecd"
      },
      "execution_count": null,
      "outputs": [
        {
          "output_type": "stream",
          "name": "stdout",
          "text": [
            "[10, 20, 'python'] <class 'list'>\n",
            "(10, 20, 30) <class 'tuple'>\n"
          ]
        }
      ]
    },
    {
      "cell_type": "markdown",
      "source": [
        "DICT"
      ],
      "metadata": {
        "id": "aKi6lgIBLOSx"
      }
    },
    {
      "cell_type": "code",
      "source": [
        "d= {\"ab\":20, \"bc\":30, \"cd\":40}\n",
        "print(d,type(d))\n",
        "print(d[\"ab\"])\n",
        "print(d.keys())   #% output will be list of keys\n",
        "print(d.values())   #% output will be list of values\n",
        "print(d.items())    #% output will be list of key , value pair\n"
      ],
      "metadata": {
        "colab": {
          "base_uri": "https://localhost:8080/"
        },
        "id": "B8DbRmDJLQfm",
        "outputId": "a85f7c5f-be06-4c8d-a114-69030606baed"
      },
      "execution_count": null,
      "outputs": [
        {
          "output_type": "stream",
          "name": "stdout",
          "text": [
            "{'ab': 20, 'bc': 30, 'cd': 40} <class 'dict'>\n",
            "20\n",
            "dict_keys(['ab', 'bc', 'cd'])\n",
            "dict_values([20, 30, 40])\n",
            "dict_items([('ab', 20), ('bc', 30), ('cd', 40)])\n"
          ]
        }
      ]
    },
    {
      "cell_type": "markdown",
      "source": [
        "#SET"
      ],
      "metadata": {
        "id": "y-H4kSB60kyZ"
      }
    },
    {
      "cell_type": "code",
      "source": [
        " s={100,200}\n",
        " print(s,type(s))"
      ],
      "metadata": {
        "id": "pHTeCxBD00EO",
        "outputId": "57bc379c-e4e7-4428-f55f-e35dcdf2e149",
        "colab": {
          "base_uri": "https://localhost:8080/"
        }
      },
      "execution_count": null,
      "outputs": [
        {
          "output_type": "stream",
          "name": "stdout",
          "text": [
            "{200, 100} <class 'set'>\n"
          ]
        }
      ]
    },
    {
      "cell_type": "markdown",
      "source": [
        "CONTROL FLOW STATEMENTS"
      ],
      "metadata": {
        "id": "VTshbpZqPyyJ"
      }
    },
    {
      "cell_type": "code",
      "source": [
        "#IF \n",
        "number = 7\n",
        "if number > 5:\n",
        "    print(number * number)\n",
        "print('Next lines of code')"
      ],
      "metadata": {
        "colab": {
          "base_uri": "https://localhost:8080/"
        },
        "id": "_OJPAOfKP2eX",
        "outputId": "e573ce0e-cd3d-4a67-8977-883bedd164e5"
      },
      "execution_count": null,
      "outputs": [
        {
          "output_type": "stream",
          "name": "stdout",
          "text": [
            "49\n",
            "Next lines of code\n"
          ]
        }
      ]
    },
    {
      "cell_type": "markdown",
      "source": [
        "IF ELSE"
      ],
      "metadata": {
        "id": "uAkl4PtjQERp"
      }
    },
    {
      "cell_type": "code",
      "source": [
        "password = input('Enter password ')\n",
        "\n",
        "if password == \"PYnative@#29\":\n",
        "    print(\"Correct password\")\n",
        "else:\n",
        "    print(\"Incorrect Password\")"
      ],
      "metadata": {
        "colab": {
          "base_uri": "https://localhost:8080/"
        },
        "id": "USb4xaqDQFpA",
        "outputId": "4bd37a4c-7186-431a-c98e-2ccb9036314d"
      },
      "execution_count": null,
      "outputs": [
        {
          "output_type": "stream",
          "name": "stdout",
          "text": [
            "Enter password WFEREW\n",
            "Incorrect Password\n"
          ]
        }
      ]
    },
    {
      "cell_type": "markdown",
      "source": [
        "NESTED *IF*"
      ],
      "metadata": {
        "id": "pEqHi_63QtXD"
      }
    },
    {
      "cell_type": "markdown",
      "source": [],
      "metadata": {
        "id": "Ov6vu2cgRZdz"
      }
    },
    {
      "cell_type": "code",
      "source": [
        "    choice=4\n",
        "    if choice == 1:\n",
        "        print(\"Admin\")\n",
        "    elif choice == 2:\n",
        "        print(\"Editor\")\n",
        "    elif choice == 3:\n",
        "        print(\"Guest\")\n",
        "    else:\n",
        "        print(\"Wrong entry\")"
      ],
      "metadata": {
        "colab": {
          "base_uri": "https://localhost:8080/"
        },
        "id": "ZCE8a9PjQwNp",
        "outputId": "97c63f21-4a3a-4fa7-d90a-4ed1df9644d4"
      },
      "execution_count": null,
      "outputs": [
        {
          "output_type": "stream",
          "name": "stdout",
          "text": [
            "Wrong entry\n"
          ]
        }
      ]
    },
    {
      "cell_type": "markdown",
      "source": [
        "Nested IF else"
      ],
      "metadata": {
        "id": "fo67PLlLRbXS"
      }
    },
    {
      "cell_type": "code",
      "source": [
        "num1 = int(input('Enter first number '))\n",
        "num2 = int(input('Enter second number '))\n",
        "\n",
        "if num1 >= num2:\n",
        "    if num1 == num2:\n",
        "        print(num1, 'and', num2, 'are equal')\n",
        "    else:\n",
        "        print(num1, 'is greater than', num2)\n",
        "else:\n",
        "    print(num1, 'is smaller than', num2)\n",
        "    "
      ],
      "metadata": {
        "colab": {
          "base_uri": "https://localhost:8080/"
        },
        "id": "8AYNgRK0ReVR",
        "outputId": "26a1496b-5a02-4b0b-ab5f-9bdb30557548"
      },
      "execution_count": null,
      "outputs": [
        {
          "output_type": "stream",
          "name": "stdout",
          "text": [
            "Enter first number 1\n",
            "Enter second number 2\n",
            "1 is smaller than 2\n"
          ]
        }
      ]
    },
    {
      "cell_type": "markdown",
      "source": [
        "# WHILE LOOP\n"
      ],
      "metadata": {
        "id": "rKBG3JxvSBO7"
      }
    },
    {
      "cell_type": "code",
      "source": [
        "x = 1\n",
        "while x <= 5: \n",
        "  print(x); \n",
        "  x = x+1"
      ],
      "metadata": {
        "colab": {
          "base_uri": "https://localhost:8080/"
        },
        "id": "j1btTASvSCiw",
        "outputId": "bfe341b0-af21-4e7f-a012-a5b58a07634a"
      },
      "execution_count": null,
      "outputs": [
        {
          "output_type": "stream",
          "name": "stdout",
          "text": [
            "1\n",
            "2\n",
            "3\n",
            "4\n",
            "5\n"
          ]
        }
      ]
    },
    {
      "cell_type": "markdown",
      "source": [],
      "metadata": {
        "id": "Z6KAr9qrlH3S"
      }
    },
    {
      "cell_type": "markdown",
      "source": [
        "FOR LOOP\n",
        "\n"
      ],
      "metadata": {
        "id": "pYQGlz7gSbtA"
      }
    },
    {
      "cell_type": "code",
      "source": [
        "sum=0\n",
        "\n",
        "for value in range(1,21}):\n",
        "  sum+=value\n",
        "print(sum)\n",
        "\n",
        "#range range(5)- starts from 0 1 2 3 4\n",
        "#range(5, 11) 5,6,7,8,9,10\n",
        "#range(2, 13, 2) 2 4 6 8 10 12\n"
      ],
      "metadata": {
        "colab": {
          "base_uri": "https://localhost:8080/"
        },
        "id": "386wyhdOTuQ-",
        "outputId": "b559ebee-6a0b-4575-ed57-c59c13f6c6ba"
      },
      "execution_count": null,
      "outputs": [
        {
          "output_type": "stream",
          "name": "stdout",
          "text": [
            "210\n"
          ]
        }
      ]
    },
    {
      "cell_type": "markdown",
      "source": [],
      "metadata": {
        "id": "stwZwMdUlfXd"
      }
    }
  ]
}