{
  "nbformat": 4,
  "nbformat_minor": 0,
  "metadata": {
    "colab": {
      "provenance": [],
      "collapsed_sections": []
    },
    "kernelspec": {
      "name": "python3",
      "display_name": "Python 3"
    },
    "language_info": {
      "name": "python"
    }
  },
  "cells": [
    {
      "cell_type": "markdown",
      "source": [
        "A)Write a Python program to map two lists into a dictionary"
      ],
      "metadata": {
        "id": "tBZpcRb7M_rV"
      }
    },
    {
      "cell_type": "code",
      "source": [
        "keys=[]\n",
        "values=[]\n",
        "n = int(input('Enter number of elements for dictionary'))\n",
        "print('For keys:')\n",
        "for x in range(0,n):\n",
        "     element = int(input('Enter element' + str(x+1) + \":\"))\n",
        "     keys.append(element)\n",
        "print('For values:')\n",
        "for x in range(0,n):\n",
        "    element = (input('Enter element' + str(x+1) + \":\"))\n",
        "    values.append(element)\n",
        "d= dict(zip(keys, values))\n",
        "print('The dictionary is:')   \n",
        "print(d)\n"
      ],
      "metadata": {
        "colab": {
          "base_uri": "https://localhost:8080/"
        },
        "id": "3oehpNekNo0j",
        "outputId": "58bb39bf-16f7-45db-ae9d-efcd5d96a9b7"
      },
      "execution_count": null,
      "outputs": [
        {
          "output_type": "stream",
          "name": "stdout",
          "text": [
            "Enter number of elements for dictionary3\n",
            "For keys:\n",
            "Enter element1:1\n",
            "Enter element2:2\n",
            "Enter element3:3\n",
            "For values:\n",
            "Enter element1:A\n",
            "Enter element2:B\n",
            "Enter element3:C\n",
            "The dictionary is:\n",
            "{1: 'A', 2: 'B', 3: 'C'}\n"
          ]
        }
      ]
    },
    {
      "cell_type": "markdown",
      "source": [],
      "metadata": {
        "id": "IIWMs1AxNolD"
      }
    },
    {
      "cell_type": "markdown",
      "source": [
        "B)Write a program to find Maximum and Minimum K elements in Tuple Using slicing + sorted()\n"
      ],
      "metadata": {
        "id": "x9ork3scYGNi"
      }
    },
    {
      "cell_type": "code",
      "source": [
        "# initializing tuple\n",
        "t = (5, 20, 3, 7, 6, 8)\n",
        " \n",
        "# printing original tuple\n",
        "print(\"The original tuple is : \" + str(t))\n",
        "\n",
        "# initializing K\n",
        "K = 2\n",
        " \n",
        "# Maximum and Minimum K elements in Tuple\n",
        "# Using slicing + sorted()\n",
        "l = list(t)\n",
        "temp = sorted(l)\n",
        "res = tuple(temp[:K] + temp[-K:])\n",
        " \n",
        "# printing result\n",
        "print(\"The extracted values : \" + str(res))"
      ],
      "metadata": {
        "colab": {
          "base_uri": "https://localhost:8080/"
        },
        "id": "H6boWU7yYF8K",
        "outputId": "6ed96eef-ce88-451b-c7cf-ae04c3fe7d16"
      },
      "execution_count": null,
      "outputs": [
        {
          "output_type": "stream",
          "name": "stdout",
          "text": [
            "The original tuple is : (5, 20, 3, 7, 6, 8)\n",
            "The extracted values : (3, 5, 8, 20)\n"
          ]
        }
      ]
    }
  ]
}