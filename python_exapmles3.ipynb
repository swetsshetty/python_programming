{
  "nbformat": 4,
  "nbformat_minor": 0,
  "metadata": {
    "colab": {
      "provenance": [],
      "collapsed_sections": []
    },
    "kernelspec": {
      "name": "python3",
      "display_name": "Python 3"
    },
    "language_info": {
      "name": "python"
    }
  },
  "cells": [
    {
      "cell_type": "code",
      "execution_count": null,
      "metadata": {
        "id": "iTdeE1ajFPAc",
        "colab": {
          "base_uri": "https://localhost:8080/"
        },
        "outputId": "11e8c127-6eb3-4971-b2cf-c938ae458480"
      },
      "outputs": [
        {
          "output_type": "stream",
          "name": "stdout",
          "text": [
            "welcome to Python class\n"
          ]
        }
      ],
      "source": [
        "def mymsg():  \n",
        "    print(\"welcome to Python class\")\n",
        "\n",
        "mymsg()"
      ]
    },
    {
      "cell_type": "markdown",
      "source": [
        "#Python Function with No Arguments, and No Return Value \n",
        "  \n",
        "Here we are not passing any parameter to function instead values are assigned within the function and result is also printed within the function . \n",
        "It is not returning any value.\n"
      ],
      "metadata": {
        "id": "M91kiAZBFP_c"
      }
    },
    {
      "cell_type": "code",
      "source": [
        "def add1():\n",
        "  a=12\n",
        "  b=67.5\n",
        "  sum=a+b\n",
        "  print(\"The sum of two numbers is:\",sum)\n",
        "\n",
        "add1()"
      ],
      "metadata": {
        "id": "zr9vhu2KGL34",
        "colab": {
          "base_uri": "https://localhost:8080/"
        },
        "outputId": "a6621c51-326a-496f-d77e-18b7284ff5cb"
      },
      "execution_count": null,
      "outputs": [
        {
          "output_type": "stream",
          "name": "stdout",
          "text": [
            "The sum of two numbers is: 79.5\n"
          ]
        }
      ]
    },
    {
      "cell_type": "code",
      "source": [
        "def Add1(): \n",
        "  a = 40.6\n",
        "  b = 30\n",
        "  Sum = a + b\n",
        "  print(\"After Calling the Function sum is:\", Sum)\n",
        "\n",
        "\n",
        "Add1()\n",
        "  "
      ],
      "metadata": {
        "colab": {
          "base_uri": "https://localhost:8080/"
        },
        "id": "YEZJQPlMFT3O",
        "outputId": "f600c973-1e0d-431b-a5b4-6a1083b03468"
      },
      "execution_count": null,
      "outputs": [
        {
          "output_type": "stream",
          "name": "stdout",
          "text": [
            "After Calling the Function sum is: 70.6\n"
          ]
        }
      ]
    },
    {
      "cell_type": "markdown",
      "source": [
        "# Python Function with Arguments, and No Return Value \n",
        "Here we are passing 2 parameters a,b to the function and function is calculating sum of these parameter and result is printed within the function . It is not returning any value"
      ],
      "metadata": {
        "id": "SSatzXSkFll1"
      }
    },
    {
      "cell_type": "code",
      "source": [
        "def Add2(a,b): \n",
        "     Sum = a + b \n",
        "     print(\"Result:\", Sum) \n",
        "Add2(10,20)\n"
      ],
      "metadata": {
        "id": "KoUDF72rFojv",
        "colab": {
          "base_uri": "https://localhost:8080/"
        },
        "outputId": "4666cadf-21a6-492e-ac90-d6ddf0fd114f"
      },
      "execution_count": null,
      "outputs": [
        {
          "output_type": "stream",
          "name": "stdout",
          "text": [
            "Result: 30\n"
          ]
        }
      ]
    },
    {
      "cell_type": "code",
      "source": [
        "def mul(a,b):\n",
        "    result=a*b\n",
        "    print(\"Multiplication of two numbers:\",result)\n",
        "\n",
        "mul(10, 50)\n"
      ],
      "metadata": {
        "colab": {
          "base_uri": "https://localhost:8080/"
        },
        "id": "sdD6HIViQLJ2",
        "outputId": "e49010f1-716b-4e79-dfd8-137fb0da62c5"
      },
      "execution_count": null,
      "outputs": [
        {
          "output_type": "stream",
          "name": "stdout",
          "text": [
            "Multiplication of two numbers: 500\n"
          ]
        }
      ]
    },
    {
      "cell_type": "markdown",
      "source": [
        "#Python Function with Arguments, and Return Value \n",
        "Here we are passing 2 parameters a,b to the function and function is calculating sum of these parameter and result is returned. "
      ],
      "metadata": {
        "id": "FlYRj72HGQmo"
      }
    },
    {
      "cell_type": "code",
      "source": [
        "def Add3(a,b): \n",
        "    Sum = a * b\n",
        "    return Sum \n",
        "\n",
        "Add3(100,56)\n",
        "#Z=Add3(10,12) \n",
        "\n",
        "#print(\"result=\",Z)\n"
      ],
      "metadata": {
        "colab": {
          "base_uri": "https://localhost:8080/"
        },
        "id": "lZMecWchGWAE",
        "outputId": "9c9858d9-913b-497a-a24b-7ebf24a3414c"
      },
      "execution_count": null,
      "outputs": [
        {
          "output_type": "execute_result",
          "data": {
            "text/plain": [
              "5600"
            ]
          },
          "metadata": {},
          "execution_count": 11
        }
      ]
    },
    {
      "cell_type": "markdown",
      "source": [
        "# Python Function with No Arguments, and Return Value\n",
        "Here we are not passing any parameter to function instead values are assigned within the function but result is returned."
      ],
      "metadata": {
        "id": "49GDSWkFHV-j"
      }
    },
    {
      "cell_type": "code",
      "source": [
        "def Add4():\n",
        "  a=11\n",
        "  b=20 \n",
        "  Sum = a + b\n",
        "  return  Sum \n",
        "#Add4()\n",
        "z=Add4()\n",
        "print(\"Result:\",z)\n",
        "\n",
        "\n"
      ],
      "metadata": {
        "colab": {
          "base_uri": "https://localhost:8080/"
        },
        "id": "ReI2rMT3HcSs",
        "outputId": "77d029e5-30b6-4dd7-a98d-b94efa1f0633"
      },
      "execution_count": null,
      "outputs": [
        {
          "output_type": "stream",
          "name": "stdout",
          "text": [
            "Result: 31\n"
          ]
        }
      ]
    },
    {
      "cell_type": "markdown",
      "source": [
        "#Lambdas in Python"
      ],
      "metadata": {
        "id": "_ZWPCsyPICKa"
      }
    },
    {
      "cell_type": "code",
      "source": [
        "def square(X):\n",
        "  return X**2\n",
        "\n",
        "square(5)  "
      ],
      "metadata": {
        "colab": {
          "base_uri": "https://localhost:8080/"
        },
        "id": "3iZcgrlJe0mZ",
        "outputId": "555eb39a-7c1f-42c5-f744-6013c853a230"
      },
      "execution_count": null,
      "outputs": [
        {
          "output_type": "execute_result",
          "data": {
            "text/plain": [
              "25"
            ]
          },
          "metadata": {},
          "execution_count": 18
        }
      ]
    },
    {
      "cell_type": "code",
      "source": [
        "#square using function\n",
        "def square(x):\n",
        "  return x**2\n",
        "\n",
        "result=square(4)\n",
        "print(result)\n",
        "\n",
        "\n"
      ],
      "metadata": {
        "colab": {
          "base_uri": "https://localhost:8080/"
        },
        "id": "KuJ3pU2TID2P",
        "outputId": "c0ccf6ef-37c6-459b-f058-6ebf59588165"
      },
      "execution_count": null,
      "outputs": [
        {
          "output_type": "stream",
          "name": "stdout",
          "text": [
            "16\n",
            "900\n"
          ]
        }
      ]
    },
    {
      "cell_type": "code",
      "source": [
        "\n",
        "#square using lamda\n",
        "result= (lambda x:x**2)(4)\n",
        "print(result)"
      ],
      "metadata": {
        "colab": {
          "base_uri": "https://localhost:8080/"
        },
        "id": "a6EWm26wWgKv",
        "outputId": "d0a76cec-0f84-4e73-e226-1137ffd97a9d"
      },
      "execution_count": null,
      "outputs": [
        {
          "output_type": "stream",
          "name": "stdout",
          "text": [
            "16\n"
          ]
        }
      ]
    },
    {
      "cell_type": "code",
      "source": [
        "lst1 = [5, 7, 9, -3, 4, 2, 6]\n",
        "lst2 = list(map(lambda n : n * 2, lst1))\n",
        "print(lst2)"
      ],
      "metadata": {
        "colab": {
          "base_uri": "https://localhost:8080/"
        },
        "id": "DOfZkxC1XEAQ",
        "outputId": "4677689f-9d65-45af-e139-08970d147b10"
      },
      "execution_count": null,
      "outputs": [
        {
          "output_type": "stream",
          "name": "stdout",
          "text": [
            "[10, 14, 18, -6, 8, 4, 12]\n"
          ]
        }
      ]
    },
    {
      "cell_type": "code",
      "source": [
        "def add(x):\n",
        "    x=x+2\n",
        "newlist=[10,20,30,40]\n",
        "result=list(map(lambda x:x+2,newlist))\n",
        "print(result)\n",
        "\n",
        "\n",
        "\n",
        "#using lamda function and map\n",
        "\n",
        "#newlist=[10,20,30,40]\n",
        "#result1=list(map(lambda x:x+2,newlist))\n",
        "#print(result1)\n"
      ],
      "metadata": {
        "colab": {
          "base_uri": "https://localhost:8080/"
        },
        "id": "GSLSEy96JTT7",
        "outputId": "d00962b9-fadb-4427-c63b-8af4d55f8eb4"
      },
      "execution_count": null,
      "outputs": [
        {
          "output_type": "stream",
          "name": "stdout",
          "text": [
            "[12, 22, 32, 42]\n"
          ]
        }
      ]
    },
    {
      "cell_type": "code",
      "source": [
        "newlist=[1,3,5,6,8,9,14,15]\n",
        "result=list(filter(lambda x: x%2 ==0, newlist))\n",
        "print(result)\n"
      ],
      "metadata": {
        "colab": {
          "base_uri": "https://localhost:8080/"
        },
        "id": "fnrmQsztLDGi",
        "outputId": "b4ebb8fd-61af-4563-bf37-629e89e1ed07"
      },
      "execution_count": null,
      "outputs": [
        {
          "output_type": "stream",
          "name": "stdout",
          "text": [
            "[6, 8, 14]\n"
          ]
        }
      ]
    },
    {
      "cell_type": "markdown",
      "source": [
        "A) Assume you want to build two functions for discounting products on a website.\n",
        "Function number 1 is for student discount which discounts the current price to 10%.\n",
        "Function number 2 is for additional discount for regular buyers which discounts an additional 5% on the current student discounted price.\n",
        "Depending on the situation, we want to be able to apply both the discounts on the products.\n",
        "Design the above two mentioned functions and apply them both simultaneously on the price.\n"
      ],
      "metadata": {
        "id": "6BDe7DfrQYPe"
      }
    },
    {
      "cell_type": "code",
      "source": [
        "def student_discount(selling_price):\n",
        "  newprice=selling_price-(selling_price *10)/100\n",
        "  return newprice\n",
        "\n",
        "student_discount(200)  "
      ],
      "metadata": {
        "colab": {
          "base_uri": "https://localhost:8080/"
        },
        "id": "69ofrQQznJrT",
        "outputId": "97fb39ae-b086-4466-95cd-ab2d78a14d5a"
      },
      "execution_count": null,
      "outputs": [
        {
          "output_type": "execute_result",
          "data": {
            "text/plain": [
              "180.0"
            ]
          },
          "metadata": {},
          "execution_count": 24
        }
      ]
    },
    {
      "cell_type": "code",
      "source": [
        "def student_discount(price):\n",
        "   price = price - (price * 10) / 100\n",
        "   return price\n",
        "student_discount(100)"
      ],
      "metadata": {
        "colab": {
          "base_uri": "https://localhost:8080/"
        },
        "id": "noSdNK04dLkq",
        "outputId": "a262f1b6-a81b-4644-fccd-4c30c79f12b7"
      },
      "execution_count": null,
      "outputs": [
        {
          "output_type": "execute_result",
          "data": {
            "text/plain": [
              "90.0"
            ]
          },
          "metadata": {},
          "execution_count": 26
        }
      ]
    },
    {
      "cell_type": "code",
      "source": [
        "def additional_discount(newprice1):\n",
        "   newprice2 = newprice1 - (newprice1 * 5) / 100\n",
        "   return newprice2\n",
        "additional_discount(200)"
      ],
      "metadata": {
        "colab": {
          "base_uri": "https://localhost:8080/"
        },
        "id": "I0EVyrOidUHf",
        "outputId": "84e91362-d62f-4b67-f60b-8f78d0c30982"
      },
      "execution_count": null,
      "outputs": [
        {
          "output_type": "execute_result",
          "data": {
            "text/plain": [
              "190.0"
            ]
          },
          "metadata": {},
          "execution_count": 26
        }
      ]
    },
    {
      "cell_type": "code",
      "source": [
        "def student_discount(price):\n",
        "   price = price - (price * 10) / 100\n",
        "   return price\n",
        " \n",
        "def additional_discount(newprice):\n",
        "   newprice = newprice - (newprice * 5) / 100\n",
        "   return newprice\n",
        " \n",
        "selling_price = 100\n",
        "\n",
        "#applying both discounts simultaneously\n",
        "\n",
        "#student_disc=(student_discount(selling_price)) # FUNCTION CALL\n",
        "#print(student_disc)\n",
        "\n",
        "#tudent_add_disc=additional_discount(student_disc)\n",
        "#print(student_add_disc)\n",
        "print(additional_discount(student_discount(selling_price)))\n",
        "\n"
      ],
      "metadata": {
        "colab": {
          "base_uri": "https://localhost:8080/"
        },
        "id": "kBfSPCZWQfXf",
        "outputId": "94f9f897-6f22-4a27-f285-a5e911ec17d7"
      },
      "execution_count": null,
      "outputs": [
        {
          "output_type": "stream",
          "name": "stdout",
          "text": [
            "85.5\n"
          ]
        }
      ]
    },
    {
      "cell_type": "markdown",
      "source": [
        "B) Calculate the value of mathematical expression x*(x+5)^2 where x= 5 using lambda expression."
      ],
      "metadata": {
        "id": "hUjzKJ4zSprE"
      }
    },
    {
      "cell_type": "code",
      "source": [
        "result = (lambda x: x*(x+5)**2)(5)\n",
        "print(result)"
      ],
      "metadata": {
        "colab": {
          "base_uri": "https://localhost:8080/"
        },
        "id": "iNagz2ssSxVN",
        "outputId": "4f414f01-28a3-4f70-cafc-f5e48808eb6e"
      },
      "execution_count": null,
      "outputs": [
        {
          "output_type": "stream",
          "name": "stdout",
          "text": [
            "500\n"
          ]
        }
      ]
    },
    {
      "cell_type": "markdown",
      "source": [
        "C) Consider a list in Python which includes prices of all the items in a store.\n",
        "Build a function to discount the price of all the products by 10%.\n"
      ],
      "metadata": {
        "id": "HNxHYextS57m"
      }
    },
    {
      "cell_type": "code",
      "source": [
        "#uisng function\n",
        "def discount(price):\n",
        "   price = price - (price * 10) / 100\n",
        "   return price\n",
        " \n",
        "product_prices = [100, 200, 300, 400, 500]\n",
        "updated_prices = list(map(discount,product_prices))\n",
        "\n",
        "print(updated_prices)\n"
      ],
      "metadata": {
        "colab": {
          "base_uri": "https://localhost:8080/"
        },
        "id": "I9T1vIDUS4u5",
        "outputId": "059a58a7-90fe-4436-9800-05f49911c86f"
      },
      "execution_count": null,
      "outputs": [
        {
          "output_type": "stream",
          "name": "stdout",
          "text": [
            "[90.0, 180.0, 270.0, 360.0, 450.0]\n"
          ]
        }
      ]
    },
    {
      "cell_type": "code",
      "source": [
        "\n",
        " #using lambda\n",
        " \n",
        "product_prices = [100, 200, 300, 400, 500]\n",
        "updated_prices = list(map(lambda price:price - (price * 10) / 100,product_prices))\n",
        "\n",
        "print(updated_prices)\n"
      ],
      "metadata": {
        "colab": {
          "base_uri": "https://localhost:8080/"
        },
        "id": "Emtx7ZogTWHy",
        "outputId": "2768fd67-6fbb-47fe-e954-4c86ef03cba9"
      },
      "execution_count": null,
      "outputs": [
        {
          "output_type": "stream",
          "name": "stdout",
          "text": [
            "[90.0, 180.0, 270.0, 360.0, 450.0]\n"
          ]
        }
      ]
    },
    {
      "cell_type": "code",
      "source": [
        "def add(x):\n",
        "  return x+2\n",
        "\n",
        "newlist=[10,20,30,40]\n",
        "\n",
        "\n",
        "result=list(map(add,newlist))\n",
        "print(result)\n",
        "\n",
        "\n",
        "\n"
      ],
      "metadata": {
        "colab": {
          "base_uri": "https://localhost:8080/"
        },
        "id": "82RFxOjo1t8h",
        "outputId": "5c1235d7-a424-489f-c60c-0b05a75b710e"
      },
      "execution_count": null,
      "outputs": [
        {
          "output_type": "stream",
          "name": "stdout",
          "text": [
            "[12, 22, 32, 42]\n"
          ]
        }
      ]
    },
    {
      "cell_type": "code",
      "source": [
        "def Add1():\n",
        "  a = 20\n",
        "  b = 30\n",
        "  Sum = a + b\n",
        "  print(Sum)\n",
        "\n",
        "\n",
        "\n",
        "Add1() # function call"
      ],
      "metadata": {
        "colab": {
          "base_uri": "https://localhost:8080/"
        },
        "id": "uMZFjquTbvjQ",
        "outputId": "4e395eb8-c0e2-4384-a2d0-9b630a0b8f07"
      },
      "execution_count": null,
      "outputs": [
        {
          "output_type": "stream",
          "name": "stdout",
          "text": [
            "50\n"
          ]
        }
      ]
    }
  ]
}