{
  "nbformat": 4,
  "nbformat_minor": 0,
  "metadata": {
    "colab": {
      "provenance": []
    },
    "kernelspec": {
      "name": "python3",
      "display_name": "Python 3"
    },
    "language_info": {
      "name": "python"
    }
  },
  "cells": [
    {
      "cell_type": "code",
      "execution_count": null,
      "metadata": {
        "colab": {
          "base_uri": "https://localhost:8080/"
        },
        "id": "oryKVK6jSgC8",
        "outputId": "21609580-527c-49d9-9568-5cdcbe39ce80"
      },
      "outputs": [
        {
          "output_type": "stream",
          "name": "stdout",
          "text": [
            "['__add__', '__class__', '__contains__', '__delattr__', '__delitem__', '__dir__', '__doc__', '__eq__', '__format__', '__ge__', '__getattribute__', '__getitem__', '__gt__', '__hash__', '__iadd__', '__imul__', '__init__', '__init_subclass__', '__iter__', '__le__', '__len__', '__lt__', '__mul__', '__ne__', '__new__', '__reduce__', '__reduce_ex__', '__repr__', '__reversed__', '__rmul__', '__setattr__', '__setitem__', '__sizeof__', '__str__', '__subclasshook__', 'append', 'clear', 'copy', 'count', 'extend', 'index', 'insert', 'pop', 'remove', 'reverse', 'sort']\n"
          ]
        }
      ],
      "source": [
        "#help(list)\n",
        "print(dir(list))"
      ]
    },
    {
      "cell_type": "code",
      "source": [
        "\n",
        "#len(list): Gives the total length of the list.\n",
        "#max(list): Returns the largest element from the list.\n",
        "#min(list): Returns the smallest element from the lsit.\n",
        "\n",
        "l=[10,20,30,40,50]\n",
        "l2=[10,20,30,40,50]\n",
        "print(len(l))\n",
        "print(len(l2))\n",
        "print(max(l2))\n"
      ],
      "metadata": {
        "colab": {
          "base_uri": "https://localhost:8080/"
        },
        "id": "7LEGUVoFTyRc",
        "outputId": "8831cd48-f854-402f-ff5c-b2bc2f1fda63"
      },
      "execution_count": null,
      "outputs": [
        {
          "output_type": "stream",
          "name": "stdout",
          "text": [
            "5\n",
            "5\n",
            "50\n"
          ]
        }
      ]
    },
    {
      "cell_type": "markdown",
      "source": [
        "a) list with even and odd numbers using list comprehension"
      ],
      "metadata": {
        "id": "g0-XVnZbVvHT"
      }
    },
    {
      "cell_type": "code",
      "source": [
        "even=[i for i in range(50) if i%2==0]\n",
        "print(even)\n",
        "odd=[i for i in range(50) if i%2 !=0]\n",
        "print(odd)\n"
      ],
      "metadata": {
        "colab": {
          "base_uri": "https://localhost:8080/"
        },
        "id": "m3YZsWi5Vrlq",
        "outputId": "078bb57d-e8f9-4420-e5d6-6e9985d4832c"
      },
      "execution_count": null,
      "outputs": [
        {
          "output_type": "stream",
          "name": "stdout",
          "text": [
            "[0, 2, 4, 6, 8, 10, 12, 14, 16, 18, 20, 22, 24, 26, 28, 30, 32, 34, 36, 38, 40, 42, 44, 46, 48]\n",
            "[1, 3, 5, 7, 9, 11, 13, 15, 17, 19, 21, 23, 25, 27, 29, 31, 33, 35, 37, 39, 41, 43, 45, 47, 49]\n"
          ]
        }
      ]
    },
    {
      "cell_type": "markdown",
      "source": [
        "B)Write a program to find the maximum number from the list."
      ],
      "metadata": {
        "id": "sk9CitReWSOZ"
      }
    },
    {
      "cell_type": "code",
      "source": [
        "list1 = [10, 20, 4, 45, 99]\n",
        "# sorting the list\n",
        "list1.sort()\n",
        "print(\"Largest element is:\", list1[-1])"
      ],
      "metadata": {
        "colab": {
          "base_uri": "https://localhost:8080/"
        },
        "id": "7eC4d-IGWKRC",
        "outputId": "8634aa0d-dc00-4ae7-b805-8a17739a31ac"
      },
      "execution_count": null,
      "outputs": [
        {
          "output_type": "stream",
          "name": "stdout",
          "text": [
            "Largest element is: 99\n"
          ]
        }
      ]
    },
    {
      "cell_type": "markdown",
      "source": [
        "C) Convert 2 lists  into sorted single list with unique elements using Set"
      ],
      "metadata": {
        "id": "5IT5HrAIYlVa"
      }
    },
    {
      "cell_type": "code",
      "source": [
        "\n",
        "l1=[100,200,300,400,200,500,500,500,400]\n",
        "print(l1)\n",
        "l2= [10,20,15,10,30,15,10,20,40,50,75,50,10]\n",
        "print(l2)\n",
        "s1=set(l1)\n",
        "s2=set(l2)\n",
        "s3=s1.union(s2)\n",
        "print(s3)\n",
        "l3=list(s3)\n",
        "print(l3)\n",
        "l3.sort()\n",
        "print(l3)\n"
      ],
      "metadata": {
        "colab": {
          "base_uri": "https://localhost:8080/"
        },
        "id": "JCG5-6ZzYjBK",
        "outputId": "e9a394b1-fe09-4424-efbb-5a4706c66940"
      },
      "execution_count": null,
      "outputs": [
        {
          "output_type": "stream",
          "name": "stdout",
          "text": [
            "[100, 200, 300, 400, 200, 500, 500, 500, 400]\n",
            "[10, 20, 15, 10, 30, 15, 10, 20, 40, 50, 75, 50, 10]\n",
            "{100, 200, 40, 10, 75, 300, 15, 400, 50, 500, 20, 30}\n",
            "[100, 200, 40, 10, 75, 300, 15, 400, 50, 500, 20, 30]\n",
            "[10, 15, 20, 30, 40, 50, 75, 100, 200, 300, 400, 500]\n"
          ]
        }
      ]
    },
    {
      "cell_type": "markdown",
      "source": [
        "D)Python program to check if a string is palindrome or not"
      ],
      "metadata": {
        "id": "uQelkAJFUimr"
      }
    },
    {
      "cell_type": "code",
      "source": [
        "s = \"malayalam\"\n",
        "print(s)\n",
        "s1=s[::-1]\n",
        "if s==s1:\n",
        "\tprint('Given string is palindrome')\n",
        "else:\n",
        "\tprint('Given string is not \tpalindrome')"
      ],
      "metadata": {
        "colab": {
          "base_uri": "https://localhost:8080/"
        },
        "id": "T9UgNnJtXc3a",
        "outputId": "1f9c2c43-2ba7-456d-ac08-3f7b41c96385"
      },
      "execution_count": null,
      "outputs": [
        {
          "output_type": "stream",
          "name": "stdout",
          "text": [
            "malayalam\n",
            "Given string is palindrome\n"
          ]
        }
      ]
    },
    {
      "cell_type": "code",
      "source": [
        "list1= [1,2,3,4,5]\n",
        "print(list1)\n"
      ],
      "metadata": {
        "colab": {
          "base_uri": "https://localhost:8080/"
        },
        "id": "SMyGxCU5ajhx",
        "outputId": "2e1d6e0d-5c83-4e78-a484-4c2d3f8046ce"
      },
      "execution_count": null,
      "outputs": [
        {
          "output_type": "stream",
          "name": "stdout",
          "text": [
            "[1, 2, 3, 4, 5]\n"
          ]
        }
      ]
    },
    {
      "cell_type": "code",
      "source": [
        "list2=[1,'sakec',35.8,[4,5,'abc']]\n",
        "print(list2)"
      ],
      "metadata": {
        "colab": {
          "base_uri": "https://localhost:8080/"
        },
        "id": "ksbwjdXfauy4",
        "outputId": "e722a261-b754-4b1d-ebbf-811aa82e59f0"
      },
      "execution_count": null,
      "outputs": [
        {
          "output_type": "stream",
          "name": "stdout",
          "text": [
            "[1, 'sakec', 35.8, [4, 5, 'abc']]\n"
          ]
        }
      ]
    },
    {
      "cell_type": "code",
      "source": [
        "datalist = [ 1,[1001,\"John\",45.5],[1002, \"Sandra\", 56.5]]\n",
        "print(datalist[2][1])\n"
      ],
      "metadata": {
        "colab": {
          "base_uri": "https://localhost:8080/"
        },
        "id": "vaOKWwwlbNYa",
        "outputId": "da642604-7783-49e1-d100-2179e00d1de1"
      },
      "execution_count": null,
      "outputs": [
        {
          "output_type": "stream",
          "name": "stdout",
          "text": [
            "Sandra\n"
          ]
        }
      ]
    },
    {
      "cell_type": "code",
      "source": [
        "datalist = [23,45,31,53,62]\n",
        "print(datalist[:])\n",
        "\n"
      ],
      "metadata": {
        "colab": {
          "base_uri": "https://localhost:8080/"
        },
        "id": "fELpM5gobkOp",
        "outputId": "b069ab99-002f-4149-b2ff-f1ce719aba46"
      },
      "execution_count": null,
      "outputs": [
        {
          "output_type": "stream",
          "name": "stdout",
          "text": [
            "[23, 45, 31, 53, 62]\n"
          ]
        }
      ]
    },
    {
      "cell_type": "code",
      "source": [
        "datalist = [23,45,31,53,62]\n",
        "print(len(datalist))\n",
        "print(max(datalist))\n",
        "print(min(datalist))\n",
        "\n"
      ],
      "metadata": {
        "colab": {
          "base_uri": "https://localhost:8080/"
        },
        "id": "uVQPwzcFfo0R",
        "outputId": "7800b031-b2a1-4ba5-9c39-8a424edd879c"
      },
      "execution_count": null,
      "outputs": [
        {
          "output_type": "stream",
          "name": "stdout",
          "text": [
            "5\n",
            "62\n",
            "23\n"
          ]
        }
      ]
    },
    {
      "cell_type": "code",
      "source": [
        "even=[i for i in range(500) if i%2==0]\n",
        "print(even)\n"
      ],
      "metadata": {
        "colab": {
          "base_uri": "https://localhost:8080/"
        },
        "id": "8NsCtCxSgw0j",
        "outputId": "96c7e21f-f7ff-4993-f74c-c4eab76c4174"
      },
      "execution_count": null,
      "outputs": [
        {
          "output_type": "stream",
          "name": "stdout",
          "text": [
            "[0, 2, 4, 6, 8, 10, 12, 14, 16, 18, 20, 22, 24, 26, 28, 30, 32, 34, 36, 38, 40, 42, 44, 46, 48, 50, 52, 54, 56, 58, 60, 62, 64, 66, 68, 70, 72, 74, 76, 78, 80, 82, 84, 86, 88, 90, 92, 94, 96, 98, 100, 102, 104, 106, 108, 110, 112, 114, 116, 118, 120, 122, 124, 126, 128, 130, 132, 134, 136, 138, 140, 142, 144, 146, 148, 150, 152, 154, 156, 158, 160, 162, 164, 166, 168, 170, 172, 174, 176, 178, 180, 182, 184, 186, 188, 190, 192, 194, 196, 198, 200, 202, 204, 206, 208, 210, 212, 214, 216, 218, 220, 222, 224, 226, 228, 230, 232, 234, 236, 238, 240, 242, 244, 246, 248, 250, 252, 254, 256, 258, 260, 262, 264, 266, 268, 270, 272, 274, 276, 278, 280, 282, 284, 286, 288, 290, 292, 294, 296, 298, 300, 302, 304, 306, 308, 310, 312, 314, 316, 318, 320, 322, 324, 326, 328, 330, 332, 334, 336, 338, 340, 342, 344, 346, 348, 350, 352, 354, 356, 358, 360, 362, 364, 366, 368, 370, 372, 374, 376, 378, 380, 382, 384, 386, 388, 390, 392, 394, 396, 398, 400, 402, 404, 406, 408, 410, 412, 414, 416, 418, 420, 422, 424, 426, 428, 430, 432, 434, 436, 438, 440, 442, 444, 446, 448, 450, 452, 454, 456, 458, 460, 462, 464, 466, 468, 470, 472, 474, 476, 478, 480, 482, 484, 486, 488, 490, 492, 494, 496, 498]\n"
          ]
        }
      ]
    },
    {
      "cell_type": "code",
      "source": [
        "datalist = [23,45,31,53,62]\n",
        "print(11 in datalist)\n",
        "print(62 in datalist)\n"
      ],
      "metadata": {
        "colab": {
          "base_uri": "https://localhost:8080/"
        },
        "id": "f7-smYeJhAFx",
        "outputId": "095e37cf-55cc-440c-d1dd-bcf2c7dc32b5"
      },
      "execution_count": null,
      "outputs": [
        {
          "output_type": "stream",
          "name": "stdout",
          "text": [
            "False\n",
            "True\n"
          ]
        }
      ]
    },
    {
      "cell_type": "code",
      "source": [
        "for city in ['Goa', 'Mumbai', 'Chennai']:\n",
        "  print(\"I visited\", city)\n"
      ],
      "metadata": {
        "colab": {
          "base_uri": "https://localhost:8080/"
        },
        "id": "4nlaDWp3hwHh",
        "outputId": "83afe8ef-d1c4-46a5-9f26-89686c82d802"
      },
      "execution_count": null,
      "outputs": [
        {
          "output_type": "stream",
          "name": "stdout",
          "text": [
            "I visited Goa\n",
            "I visited Mumbai\n",
            "I visited Chennai\n"
          ]
        }
      ]
    },
    {
      "cell_type": "code",
      "source": [
        "my_list = [\"zero\", \"one\", \"two\", \"three\", \"four\"]\n",
        "my_new_list = [\"five\", \"six\"] \n",
        "my_list += my_new_list\n",
        "print(\"List's items after concatenating:\"); \n",
        "for l in my_list: \n",
        "      print(l)\n"
      ],
      "metadata": {
        "colab": {
          "base_uri": "https://localhost:8080/"
        },
        "id": "baTfCNTTiPrn",
        "outputId": "07ac3412-bee2-48ca-99e6-808dbd44e57c"
      },
      "execution_count": null,
      "outputs": [
        {
          "output_type": "stream",
          "name": "stdout",
          "text": [
            "List's items after concatenating:\n",
            "zero\n",
            "one\n",
            "two\n",
            "three\n",
            "four\n",
            "five\n",
            "six\n"
          ]
        }
      ]
    },
    {
      "cell_type": "code",
      "source": [
        "my_list = [\"zero\", \"one\", \"two\", \"three\", \"four\"]\n",
        "print(\"Elements of the list, my_list are:\")\n",
        "for ml in my_list: \n",
        "      print(ml)\n",
        "index = input(\"\\nEnter index no:\")\n",
        "index = int(index)\n",
        "print(\"Deleting the element present at index number\",index)\n",
        "del my_list[index] \n",
        "print(\"\\nNow elements of the list, my_list are:\")\n",
        "for ml in my_list: \n",
        "        print(ml)  \n"
      ],
      "metadata": {
        "colab": {
          "base_uri": "https://localhost:8080/"
        },
        "id": "Dic9lolNipl3",
        "outputId": "17925adc-6535-45d5-85cf-d97141810074"
      },
      "execution_count": null,
      "outputs": [
        {
          "output_type": "stream",
          "name": "stdout",
          "text": [
            "Elements of the list, my_list are:\n",
            "zero\n",
            "one\n",
            "two\n",
            "three\n",
            "four\n",
            "\n",
            "Enter index no:2\n",
            "Deleting the element present at index number 2\n",
            "\n",
            "Now elements of the list, my_list are:\n",
            "zero\n",
            "one\n",
            "three\n",
            "four\n"
          ]
        }
      ]
    },
    {
      "cell_type": "code",
      "source": [
        "list1 = [10, 20, 4, 45, 99]\n",
        "# sorting the list\n",
        "list1.sort()\n",
        "# printing the last element\n",
        "print(\"Largest element is:\", list1[-1])\n"
      ],
      "metadata": {
        "colab": {
          "base_uri": "https://localhost:8080/"
        },
        "id": "JO3U3ZWikovJ",
        "outputId": "0e5979fe-a4d4-41e4-ebb3-a0a7520b16a5"
      },
      "execution_count": null,
      "outputs": [
        {
          "output_type": "stream",
          "name": "stdout",
          "text": [
            "Largest element is: 99\n"
          ]
        }
      ]
    },
    {
      "cell_type": "code",
      "source": [
        "list1 = [10, 20, 4, 45, 99]\n",
        "# printing the maximum element\n",
        "print(\"Largest element is:\", max(list1))\n"
      ],
      "metadata": {
        "colab": {
          "base_uri": "https://localhost:8080/"
        },
        "id": "l6fTxAEsk5vX",
        "outputId": "e9f6e34e-4121-4aa1-f36b-e196af36c985"
      },
      "execution_count": null,
      "outputs": [
        {
          "output_type": "stream",
          "name": "stdout",
          "text": [
            "Largest element is: 99\n"
          ]
        }
      ]
    },
    {
      "cell_type": "code",
      "source": [
        "list1=[]\n",
        "num=int(input(\"Enter number of elements in a list:\"))\n",
        "for i in range(1,num+1):\n",
        "     e=int(input(\"Enter elements:   \"))\n",
        "     list1.append(e)\n",
        "     print(list1)\n",
        "print(\"Largest element is:\", max(list1))\n"
      ],
      "metadata": {
        "colab": {
          "base_uri": "https://localhost:8080/"
        },
        "id": "Hh93LZAblk95",
        "outputId": "719e0d58-46a6-48b8-e5ed-0a7a8fe0fa5e"
      },
      "execution_count": null,
      "outputs": [
        {
          "output_type": "stream",
          "name": "stdout",
          "text": [
            "Enter number of elements in a list:3\n",
            "Enter elements:   45\n",
            "[45]\n",
            "Enter elements:   12\n",
            "[45, 12]\n",
            "Enter elements:   56\n",
            "[45, 12, 56]\n",
            "Largest element is: 56\n"
          ]
        }
      ]
    },
    {
      "cell_type": "code",
      "source": [
        "l1=[100,200,300,400,200]\n",
        "l2= [10,20,15,10,30,15,10,20,40,50,75,50,10]\n",
        "s1=set(l1)\n",
        "print(s1)\n",
        "s2=set(l2)\n",
        "print(s2)\n",
        "s3=s1.union(s2)\n",
        "print(s3)\n",
        "l3=list(s3)\n",
        "print(l3)\n",
        "l3.sort()\n",
        "print(l3)\n"
      ],
      "metadata": {
        "colab": {
          "base_uri": "https://localhost:8080/"
        },
        "id": "rDYSqEuTn0Eo",
        "outputId": "be544935-3423-4898-c0e1-5a47057fc2e7"
      },
      "execution_count": null,
      "outputs": [
        {
          "output_type": "stream",
          "name": "stdout",
          "text": [
            "{200, 100, 400, 300}\n",
            "{40, 10, 75, 15, 50, 20, 30}\n",
            "{100, 200, 40, 10, 75, 300, 15, 400, 50, 20, 30}\n",
            "[100, 200, 40, 10, 75, 300, 15, 400, 50, 20, 30]\n",
            "[10, 15, 20, 30, 40, 50, 75, 100, 200, 300, 400]\n"
          ]
        }
      ]
    },
    {
      "cell_type": "code",
      "source": [
        "s = \"sakec\"\n",
        "print(s)\n",
        "s1=s[::-1]  # reverse string opertaion \n",
        "print(s1)\n",
        "if s==s1:\n",
        "\tprint(\"Given string is palindrome\")\n",
        "else:\n",
        "\tprint(\"Given string is not \tpalindrome\")\n"
      ],
      "metadata": {
        "colab": {
          "base_uri": "https://localhost:8080/"
        },
        "id": "WQs9zN_2p6yQ",
        "outputId": "f79cb349-36f5-413e-ef80-1466b0ab68aa"
      },
      "execution_count": null,
      "outputs": [
        {
          "output_type": "stream",
          "name": "stdout",
          "text": [
            "sakec\n",
            "cekas\n",
            "Given string is not \tpalindrome\n"
          ]
        }
      ]
    },
    {
      "cell_type": "code",
      "source": [
        "keys=[]\n",
        "values=[]\n",
        "n = int(input('Enter number of elements for dictionary'))\n",
        "print('For keys:')\n",
        "for x in range(0,n):\n",
        "     element = int(input('Enter element' + str(x+1) + \":\"))\n",
        "     keys.append(element)\n",
        "print('For values:')\n",
        "for x in range(0,n):\n",
        "    element = (input('Enter element' + str(x+1) + \":\"))\n",
        "    values.append(element)\n",
        "d= dict(zip(keys, values))\n"
      ],
      "metadata": {
        "colab": {
          "base_uri": "https://localhost:8080/"
        },
        "id": "X7kzjFzPtMkK",
        "outputId": "dc8926ca-5529-454a-ed6f-1d2078a13e26"
      },
      "execution_count": null,
      "outputs": [
        {
          "output_type": "stream",
          "name": "stdout",
          "text": [
            "Enter number of elements for dictionary3\n",
            "For keys:\n",
            "Enter element1:1\n",
            "Enter element2:2\n",
            "Enter element3:3\n",
            "For values:\n",
            "Enter element1:22\n",
            "Enter element2:23\n",
            "Enter element3:24\n",
            "The dictionary is:\n",
            "{1: '22', 2: '23', 3: '24'}\n"
          ]
        }
      ]
    },
    {
      "cell_type": "code",
      "source": [
        "# initializing tuple\n",
        "t = (5, 20, 23, 4,1,2,7, 6, 8)\n",
        " \n",
        "# printing original tuple\n",
        "print(\"The original tuple is : \" + str(t))\n",
        " \n",
        "# initializing K\n",
        "K = 3\n",
        " \n",
        "# Maximum and Minimum K elements in Tuple\n",
        "# Using slicing + sorted()\n",
        "l = list(t)\n",
        "temp = sorted(l)\n",
        "print(temp)\n",
        "res = tuple(temp[:K] + temp[-K:])\n",
        "# printing result\n",
        "print(\"The extracted values : \" + str(res))\n"
      ],
      "metadata": {
        "colab": {
          "base_uri": "https://localhost:8080/"
        },
        "id": "JS9aXe5QyDp3",
        "outputId": "a750575d-5105-4c60-b53d-c69dad793f5d"
      },
      "execution_count": null,
      "outputs": [
        {
          "output_type": "stream",
          "name": "stdout",
          "text": [
            "The original tuple is : (5, 20, 23, 4, 1, 2, 7, 6, 8)\n",
            "[1, 2, 4, 5, 6, 7, 8, 20, 23]\n",
            "The extracted values : (1, 2, 4, 8, 20, 23)\n"
          ]
        }
      ]
    }
  ]
}