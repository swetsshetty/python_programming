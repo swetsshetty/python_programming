{
  "nbformat": 4,
  "nbformat_minor": 0,
  "metadata": {
    "colab": {
      "provenance": [],
      "collapsed_sections": []
    },
    "kernelspec": {
      "name": "python3",
      "display_name": "Python 3"
    },
    "language_info": {
      "name": "python"
    }
  },
  "cells": [
    {
      "cell_type": "code",
      "source": [
        "#NUMERIC DATA TYPES\n",
        "# Integer: \n",
        "num1=100\n",
        "print(num1, type(num1))\n",
        "# Float: \n",
        "num2= 32.5\n",
        "print(num2, type(num2))\n",
        "#complex: \n",
        "num3= 2+ 5j\n",
        "print(num3, type(num3))\n",
        "# bool\n",
        "a= True\n",
        "print(a, type(a))"
      ],
      "metadata": {
        "colab": {
          "base_uri": "https://localhost:8080/"
        },
        "id": "WoHPZdT7JGub",
        "outputId": "4db9abe1-2b87-41e6-c631-699b8f3bd7c0"
      },
      "execution_count": null,
      "outputs": [
        {
          "output_type": "stream",
          "name": "stdout",
          "text": [
            "100 <class 'int'>\n",
            "32.5 <class 'float'>\n",
            "(2+5j) <class 'complex'>\n",
            "True <class 'bool'>\n"
          ]
        }
      ]
    },
    {
      "cell_type": "code",
      "source": [
        "#Type Conversion\n",
        "print(int(2.3))\n",
        "print(int(-2.8))\n",
        "print(float(5))\n",
        "print(complex('3+5j'))\n",
        "\n",
        "\n",
        "#Python Mathematics\n",
        "import math\n",
        "print(math.pi)\n",
        "print(math.cos(math.pi))\n",
        "print(math.exp(10))\n",
        "print(math.log10(1000))\n",
        "print(math.sinh(1))\n",
        "print(math.factorial(6))\n",
        "\n",
        "import random\n",
        "print(random.randrange(10, 20))\n",
        "x = ['a', 'b', 'c', 'd', 'e']\n",
        "# Get random choice\n",
        "print(random.choice(x))\n",
        "# Shuffle x\n",
        "random.shuffle(x)\n",
        "# Print the shuffled x\n",
        "print(x)\n",
        "# Print random element\n",
        "print(random.random())"
      ],
      "metadata": {
        "id": "RWHUwzZszaxs",
        "colab": {
          "base_uri": "https://localhost:8080/"
        },
        "outputId": "5ce17abb-07f5-49cf-9f2a-00ead054b7bb"
      },
      "execution_count": null,
      "outputs": [
        {
          "output_type": "stream",
          "name": "stdout",
          "text": [
            "2\n",
            "-2\n",
            "5.0\n",
            "(3+5j)\n",
            "3.141592653589793\n",
            "-1.0\n",
            "22026.465794806718\n",
            "3.0\n",
            "1.1752011936438014\n",
            "720\n",
            "11\n",
            "b\n",
            "['d', 'a', 'b', 'e', 'c']\n",
            "0.9553116847235308\n"
          ]
        }
      ]
    },
    {
      "cell_type": "code",
      "source": [],
      "metadata": {
        "id": "mccgGHN8JXv-"
      },
      "execution_count": null,
      "outputs": []
    },
    {
      "cell_type": "markdown",
      "source": [],
      "metadata": {
        "id": "jeHzmlsczaJz"
      }
    },
    {
      "cell_type": "markdown",
      "source": [
        "**STRING**\n",
        "1.   Ordered: supports indexing ans slicing\n",
        "2.   Immutable: CANT CHANGE\n",
        "3.   Not heterogenous : doesnot support different data types\n",
        "\n"
      ],
      "metadata": {
        "id": "KH6AUlGMNqGa"
      }
    },
    {
      "cell_type": "markdown",
      "source": [],
      "metadata": {
        "id": "jv88z_LLVpBZ"
      }
    },
    {
      "cell_type": "code",
      "source": [
        "# string\n",
        "\n",
        "s= \"python\"\n",
        "print(s,type(s))\n",
        "\n",
        "#if i want to print  'python' is immutable\n",
        "s=\"'python' is immutable\"\n",
        "print(s)\n"
      ],
      "metadata": {
        "id": "UkJqKBWVNtds",
        "colab": {
          "base_uri": "https://localhost:8080/"
        },
        "outputId": "45b128d6-1322-47e9-eec3-2d4e62704232"
      },
      "execution_count": null,
      "outputs": [
        {
          "output_type": "stream",
          "name": "stdout",
          "text": [
            "python <class 'str'>\n",
            "'python' is immutable\n"
          ]
        }
      ]
    },
    {
      "cell_type": "code",
      "source": [
        "# functions in strings\n",
        "s= \"python is string\"\n",
        "print(id(s))\n",
        "s= s.capitalize()\n",
        "print(id(s))\n",
        "print(s)  \n",
        "print(s.upper())\n",
        "print(s.lower())\n",
        "print(s.title())\n",
        "\n",
        "#to check whether upper/lower/title\n",
        "print(s.islower())  \n",
        "print(s.isupper()) \t\n",
        "print(s.istitle()) \n",
        "#but not for capitilize\n",
        "\n",
        "# To find the index of the string # 1) index 2)find 3) rfind\n",
        "\n",
        "print(\"python\" in s) # checks if string is found\n",
        "print(s.index(\"is\")) #returns the index if  string not found  gives the error\n",
        "print(s.find(\"is\")) #returns the index if  string not found  gives -1\n",
        "print(s.rfind(\"python\")) # searches string from right and returns the index\n",
        "\n",
        "#replace\n",
        "\n",
        "s= \" abc, ab, bcd, def, abc\"\n",
        "s1= s.replace(\"abc\", \"123\")\n",
        "print(s1)\n",
        "\n",
        "#replace using maketrans and translate\n",
        "s1= \"abc\"\n",
        "s2=\"123\"\n",
        "s3= \"python is a abc\"\n",
        "table= str.maketrans(s1, s2)\n",
        "result=s3.translate(table)\n",
        "print(result)\n",
        "\n"
      ],
      "metadata": {
        "colab": {
          "base_uri": "https://localhost:8080/"
        },
        "id": "cOh0ak-7cMBl",
        "outputId": "a69a9f7c-52e8-4d1c-e915-d9ecceb76ddb"
      },
      "execution_count": null,
      "outputs": [
        {
          "output_type": "stream",
          "name": "stdout",
          "text": [
            "140260577287984\n",
            "140260577285744\n",
            "Python is string\n",
            "PYTHON IS STRING\n",
            "python is string\n",
            "Python Is String\n",
            "False\n",
            "False\n",
            "False\n",
            "False\n",
            "7\n",
            "7\n",
            "-1\n",
            " 123, ab, bcd, def, 123\n",
            "python is 1 123\n"
          ]
        }
      ]
    },
    {
      "cell_type": "code",
      "source": [
        "##STRIP###\n",
        "\n",
        "s= \"        sample       \"\n",
        "#to remove space from left and right\n",
        "s1= s.strip(\" \")\n",
        "print(s1)\n",
        "\n",
        "s= \"****sample****\"\n",
        "s1= s.strip(\"*\")\n",
        "print(s1)\n",
        "\n",
        "#to reomve from only left/right \n",
        "s1= s.lstrip(\"*\") \n",
        "s1= s.rstrip(\"*\")\n",
        "\n",
        "#to convert string to fixed length and what needs to be addded must be specified\n",
        "s= \"python\"\n",
        "s1= s.center(20,\"*\") \n",
        "print(s1)\n",
        "s1= s.ljust(20, \"*\") \n",
        "print(s1)\n",
        "s1= s.rjust(20,\"*\")\n",
        "print(s1)\n",
        "\n",
        "\n",
        "\n",
        "#help(str)\n",
        "#print(dir(str))\n",
        "\n",
        "\n",
        "# Using a for loop to iterate through a string\n",
        "s=\"python\"\n",
        "for letter in s:\n",
        "    print(letter)"
      ],
      "metadata": {
        "colab": {
          "base_uri": "https://localhost:8080/"
        },
        "id": "wmciEP0biw-I",
        "outputId": "dfe64af1-5dc9-475d-f5b0-8675d752847a"
      },
      "execution_count": null,
      "outputs": [
        {
          "output_type": "stream",
          "name": "stdout",
          "text": [
            "sample\n",
            "sample\n",
            "*******python*******\n",
            "python**************\n",
            "**************python\n",
            "['abd', ' bcd', ' fg']\n",
            "abd  bcd  fg\n",
            "p\n",
            "y\n",
            "t\n",
            "h\n",
            "o\n",
            "n\n"
          ]
        }
      ]
    },
    {
      "cell_type": "code",
      "source": [
        "#help(str)\n",
        "#print(dir(str))"
      ],
      "metadata": {
        "colab": {
          "base_uri": "https://localhost:8080/"
        },
        "id": "_B7ctpzHnm3S",
        "outputId": "2e22a7cb-2c3d-426d-a3d7-4f44f3f0386a"
      },
      "execution_count": null,
      "outputs": [
        {
          "output_type": "stream",
          "name": "stdout",
          "text": [
            "['__add__', '__class__', '__contains__', '__delattr__', '__dir__', '__doc__', '__eq__', '__format__', '__ge__', '__getattribute__', '__getitem__', '__getnewargs__', '__gt__', '__hash__', '__init__', '__init_subclass__', '__iter__', '__le__', '__len__', '__lt__', '__mod__', '__mul__', '__ne__', '__new__', '__reduce__', '__reduce_ex__', '__repr__', '__rmod__', '__rmul__', '__setattr__', '__sizeof__', '__str__', '__subclasshook__', 'capitalize', 'casefold', 'center', 'count', 'encode', 'endswith', 'expandtabs', 'find', 'format', 'format_map', 'index', 'isalnum', 'isalpha', 'isascii', 'isdecimal', 'isdigit', 'isidentifier', 'islower', 'isnumeric', 'isprintable', 'isspace', 'istitle', 'isupper', 'join', 'ljust', 'lower', 'lstrip', 'maketrans', 'partition', 'replace', 'rfind', 'rindex', 'rjust', 'rpartition', 'rsplit', 'rstrip', 'split', 'splitlines', 'startswith', 'strip', 'swapcase', 'title', 'translate', 'upper', 'zfill']\n"
          ]
        }
      ]
    },
    {
      "cell_type": "markdown",
      "source": [
        "**LIST**\n",
        "\n",
        "1. heteregenous- supports different data types\n",
        "2. Mutable: can add, update AND DELETE\n",
        "3. Ordered"
      ],
      "metadata": {
        "id": "ufZYlDCPNwWb"
      }
    },
    {
      "cell_type": "code",
      "source": [
        "l= [10, 20, \"python\"]\n",
        "print(l, type(l))"
      ],
      "metadata": {
        "colab": {
          "base_uri": "https://localhost:8080/"
        },
        "id": "jKAmre8ONzgN",
        "outputId": "6bd63281-31af-4fb1-a6a0-c8a683fa9ecd"
      },
      "execution_count": null,
      "outputs": [
        {
          "output_type": "stream",
          "name": "stdout",
          "text": [
            "[10, 20, 'python'] <class 'list'>\n",
            "(10, 20, 30) <class 'tuple'>\n"
          ]
        }
      ]
    },
    {
      "cell_type": "code",
      "source": [
        "#methods in list\n",
        "\n",
        "l=[30,20,40]\n",
        "print(l.sort()) # modifies the same list\n",
        "print(l)\n",
        "l3= sorted(l)   #returs another list\n",
        "print(l,l3)\n",
        "print(l3.reverse())\n",
        "print(l.index(30)) # returns the index\n",
        "l=[10,20,30,30]\n",
        "print(l.count(30)) # no, of occurances\n",
        "l=[10]\n",
        "print(l*20)\n",
        "\n",
        "#Iterating Through a List\n",
        "for fruit in ['apple','banana','mango']:\n",
        "    print(\"I like\",fruit)\n",
        "#List Comprehension:Way to create a new list from an existing list in Python.\n",
        "sqre = [x**2 for x in range(10)]\n",
        "print(sqre)\n",
        "\n",
        "\n",
        "l= [10,20,30]\n",
        "for t in enumerate(l):\n",
        "\tprint(t)\n",
        "#returns index and value\n"
      ],
      "metadata": {
        "colab": {
          "base_uri": "https://localhost:8080/"
        },
        "id": "psWwoTBNpKNe",
        "outputId": "55914a17-b1f8-41c5-bae7-b1ab8af7fd3a"
      },
      "execution_count": null,
      "outputs": [
        {
          "output_type": "stream",
          "name": "stdout",
          "text": [
            "None\n",
            "[20, 30, 40]\n",
            "[20, 30, 40] [20, 30, 40]\n",
            "None\n",
            "1\n",
            "2\n",
            "[10, 10, 10, 10, 10, 10, 10, 10, 10, 10, 10, 10, 10, 10, 10, 10, 10, 10, 10, 10]\n",
            "I like apple\n",
            "I like banana\n",
            "I like mango\n",
            "[0, 1, 4, 9, 16, 25, 36, 49, 64, 81]\n",
            "(0, 10)\n",
            "(1, 20)\n",
            "(2, 30)\n"
          ]
        }
      ]
    },
    {
      "cell_type": "markdown",
      "source": [
        "**TUPLE** :same as list but immutable\n",
        "\n",
        "\n",
        "1.   imutable so no method update or delete the tuple\n",
        "2.   ordered\n",
        "3.   heterogenous"
      ],
      "metadata": {
        "id": "VQfgPay8rwn3"
      }
    },
    {
      "cell_type": "code",
      "source": [
        "\n",
        "# Empty tuple\n",
        "my_tuple = ()\n",
        "print(my_tuple)\n",
        "\n",
        "# Tuple having integers\n",
        "t = (1, 2, 3)\n",
        "print(t)\n",
        "\n",
        "# tuple with mixed datatypes\n",
        "t = (1, \"Hello\", 3.4)\n",
        "print(t)\n",
        "\n",
        "# nested tuple\n",
        "t = (\"mouse\", [8, 4, 6], (1, 2, 3))\n",
        "print(t)\n",
        "\n",
        "t= (10,20,30,30,30)\n",
        "print(t, type(t))\n",
        "print(t[1])\n",
        "#only 2 methods count and index\n",
        "print(t.index(30))\n",
        "print(t.count(30))\n",
        "\n",
        "# Using a for loop to iterate through a tuple\n",
        "for name in ('John', 'Kate'):\n",
        "    print(\"Hello\", name)"
      ],
      "metadata": {
        "colab": {
          "base_uri": "https://localhost:8080/"
        },
        "id": "tlCW75VBrzWQ",
        "outputId": "108fd4bb-22c2-43af-d7fa-ca4975122956"
      },
      "execution_count": null,
      "outputs": [
        {
          "output_type": "stream",
          "name": "stdout",
          "text": [
            "()\n",
            "(1, 2, 3)\n",
            "(1, 'Hello', 3.4)\n",
            "('mouse', [8, 4, 6], (1, 2, 3))\n",
            "(10, 20, 30, 30, 30) <class 'tuple'>\n",
            "20\n",
            "2\n",
            "3\n",
            "Hello John\n",
            "Hello Kate\n"
          ]
        }
      ]
    },
    {
      "cell_type": "markdown",
      "source": [
        "DICT: data will be stored in Key and value pair; seperted by colon\n",
        "\n",
        "\n",
        "1.   mutable\n",
        "2.   unordered\n",
        "3.   heterogenous\n",
        "4.   key should be unique: int float str tuple [**it will only allow immutable data type as key..because if mutable u can change the key..duplicate entries can be done**]"
      ],
      "metadata": {
        "id": "aKi6lgIBLOSx"
      }
    },
    {
      "cell_type": "code",
      "source": [
        "d= {\"ab\":20, \"bc\":30, \"cd\":40}\n",
        "print(d,type(d))\n",
        "print(d[\"ab\"])\n",
        "\n",
        "\n",
        "\n",
        "for key in d:\n",
        "\tprint(key, d[key]) "
      ],
      "metadata": {
        "colab": {
          "base_uri": "https://localhost:8080/"
        },
        "id": "B8DbRmDJLQfm",
        "outputId": "f8c40b10-1be8-42b2-c308-afa63e25318f"
      },
      "execution_count": null,
      "outputs": [
        {
          "output_type": "stream",
          "name": "stdout",
          "text": [
            "{'ab': 20, 'bc': 30, 'cd': 40} <class 'dict'>\n",
            "20\n",
            "dict_keys(['ab', 'bc', 'cd'])\n",
            "dict_values([20, 30, 40])\n",
            "dict_items([('ab', 20), ('bc', 30), ('cd', 40)])\n",
            "ab 20\n",
            "bc 30\n",
            "cd 40\n"
          ]
        }
      ]
    },
    {
      "cell_type": "code",
      "source": [],
      "metadata": {
        "id": "bvaZ0jcysbjV"
      },
      "execution_count": null,
      "outputs": []
    },
    {
      "cell_type": "markdown",
      "source": [
        "#SET\n",
        "\n",
        "\n",
        "1.   sets are mutable\n",
        "2.   unorderd-no indexing and scling\n",
        "3.   hetergenous [**but immutable elements are used  in set such as int, float, sting, tuple as all the elements are unique***]\n"
      ],
      "metadata": {
        "id": "y-H4kSB60kyZ"
      }
    },
    {
      "cell_type": "code",
      "source": [
        "s={100,200}\n",
        "print(s,type(s))\n",
        "s1={10,20,30,40,50,60} \n",
        "s2= {40,50,60,70,80,90}\n",
        "s3=s1.union(s2) #repeated elements are removed o/p - {10,20,30,40,50,60,70,80,90}\n",
        "print(s3)\n",
        "s3=s1.intersection(s2) # common elements o/p-{40,50,60}\n",
        "print(s3)\n",
        "s3=s1.difference(s2) #all elements s1 which are not present in set 2 o/p {10,20,30}\n",
        "print(s3)\n",
        "s3=s2.difference(s1)# o/p {70,80,90}\n",
        "print(s3)\n",
        "s3=s1.symmetric_difference(s2) # all elemnts in both except common elements # {10,20,30,70,80,90}\n",
        "print(s3)\n",
        "\n",
        "\n",
        "#issubset\n",
        "s1={10,20,30,40,50,60} \n",
        "s2= {40,50,60}\n",
        "print(s2.issubset(s1)) \n",
        "print(s1.issuperset(s2))"
      ],
      "metadata": {
        "colab": {
          "base_uri": "https://localhost:8080/"
        },
        "id": "pHTeCxBD00EO",
        "outputId": "89b89ae3-2786-42c9-f796-766df920c77f"
      },
      "execution_count": null,
      "outputs": [
        {
          "output_type": "stream",
          "name": "stdout",
          "text": [
            "{200, 100} <class 'set'>\n",
            "{70, 40, 10, 80, 50, 20, 90, 60, 30}\n",
            "{40, 50, 60}\n",
            "{10, 20, 30}\n",
            "{80, 90, 70}\n",
            "{70, 10, 80, 20, 90, 30}\n",
            "True\n",
            "True\n"
          ]
        }
      ]
    },
    {
      "cell_type": "markdown",
      "source": [
        "**ORDERED DATA TYPES**: If the data type is ordered (order in which u add the data python will also maintain the same order)then it supports indexing and slicing.\n",
        "\n",
        "1.   STRING\n",
        "2.   LIST\n",
        "3.   TUPLE\n"
      ],
      "metadata": {
        "id": "NY-RbsRBj60h"
      }
    },
    {
      "cell_type": "code",
      "source": [
        "#STRING\n",
        "s= \"python is a string\"\n",
        "#indexing\n",
        "print(s[3]) \n",
        "print(s[-6])\n",
        "#slicing\n",
        "print(s[:8])\n",
        "print(s[7:])\n",
        "print(s[::2])\n",
        "print(s[::3])\n",
        "print(s[::-2])\n",
        "print(s[::-1])"
      ],
      "metadata": {
        "id": "qz9SCkq0kGu1",
        "colab": {
          "base_uri": "https://localhost:8080/"
        },
        "outputId": "abf684dd-7623-4ac3-946d-7a9594e865d1"
      },
      "execution_count": null,
      "outputs": [
        {
          "output_type": "stream",
          "name": "stdout",
          "text": [
            "h\n",
            "s\n",
            "python i\n",
            "is a string\n",
            "pto sasrn\n",
            "ph  si\n",
            "git  inhy\n",
            "gnirts a si nohtyp\n"
          ]
        }
      ]
    },
    {
      "cell_type": "code",
      "source": [
        "# LIST\n",
        "l= [10, 20, \"python\", [100,200,[10,20,30]]]\n",
        "print(l)\n",
        "print(l[0]) \n",
        "print(l[-1]) \n",
        "print(l[1:3])\n",
        "print(l[::-1])\n",
        "print(l[-1][2][2]) \n",
        "print(l[3][2][2]) "
      ],
      "metadata": {
        "colab": {
          "base_uri": "https://localhost:8080/"
        },
        "id": "ZSghJu52k3go",
        "outputId": "fd88e98c-8e0e-4236-9032-acae2dcb5386"
      },
      "execution_count": null,
      "outputs": [
        {
          "output_type": "stream",
          "name": "stdout",
          "text": [
            "[10, 20, 'python', [100, 200, [10, 20, 30]]]\n",
            "10\n",
            "[100, 200, [10, 20, 30]]\n",
            "[20, 'python']\n",
            "[[100, 200, [10, 20, 30]], 'python', 20, 10]\n",
            "30\n",
            "30\n"
          ]
        }
      ]
    },
    {
      "cell_type": "code",
      "source": [
        "#TUPLE\n",
        "t= (10,20,30,(1,2,3))\n",
        "print(t)\n",
        "print(t[0]) \n",
        "print(t[-1]) \n",
        "print(t[1:3])\n",
        "print(t[-1][2]) "
      ],
      "metadata": {
        "colab": {
          "base_uri": "https://localhost:8080/"
        },
        "id": "mzYFQZATmEBe",
        "outputId": "2282e010-0349-45c3-c06e-ab44e476d592"
      },
      "execution_count": null,
      "outputs": [
        {
          "output_type": "stream",
          "name": "stdout",
          "text": [
            "(10, 20, 30, (1, 2, 3))\n",
            "10\n",
            "(1, 2, 3)\n",
            "(20, 30)\n",
            "3\n"
          ]
        }
      ]
    },
    {
      "cell_type": "markdown",
      "source": [
        "Mutable: Allows add, update and delete from same variable and same memory location\n",
        "\n",
        "*   LIST\n",
        "*   DICTIONARY\n",
        "*   SET\n",
        "\n"
      ],
      "metadata": {
        "id": "_tB4b0-Cn0iJ"
      }
    },
    {
      "cell_type": "markdown",
      "source": [
        "LIST"
      ],
      "metadata": {
        "id": "pAGk6I-antUh"
      }
    },
    {
      "cell_type": "code",
      "source": [
        "\n",
        "#LIST update\n",
        "l=[10,20,30]\n",
        "l[1]=200\n",
        "print(l)\n",
        "#extend or append can take only one arguemnt a number\n",
        "l.append(60) # append will not return any thing it modifies the original list\n",
        "print(l) \n",
        "\n",
        "l.extend([60, 70])\n",
        "print(l)  #output: [10, 20, \"python\", [100,200],60,70] \n",
        "l.append([60, 70])\n",
        "print(l)  #output: [10, 20, \"python\", [100,200],[60,70]] \n",
        "l.extend(\"python\")\n",
        "print(l)\n",
        "#l.append(\"python\")\n",
        "#print(l)\n",
        "#if you want add the elements in between\n",
        "l=[10,20,30]\n",
        "l.insert(1,100)\n",
        "print(l)\n",
        "l2= l\n",
        "print(l,l2)  # same meory location  if u append to one then other will also change\n",
        "#use of Copy \n",
        "l2= l.copy()\n",
        "l.append(40)\n",
        "print (l, l2)\n",
        "\n",
        "#extend and concate difference\n",
        "#extend alters the  original list where as concate returns a value\n",
        "\n",
        "l= [10,20,30]\n",
        "l.extend([50, 60])\n",
        "print(l)\n",
        "l2= [20,30]\n",
        "l3= l+l2\n",
        "print(l3)\n"
      ],
      "metadata": {
        "colab": {
          "base_uri": "https://localhost:8080/"
        },
        "id": "ydtFcjmLnmxy",
        "outputId": "f9bbf0d8-4dd9-45d5-f2a7-da6712a7a73b"
      },
      "execution_count": null,
      "outputs": [
        {
          "output_type": "stream",
          "name": "stdout",
          "text": [
            "[10, 200, 30]\n",
            "[10, 200, 30, 60]\n",
            "[10, 200, 30, 60, 60, 70]\n",
            "[10, 200, 30, 60, 60, 70, [60, 70]]\n",
            "[10, 200, 30, 60, 60, 70, [60, 70], 'p', 'y', 't', 'h', 'o', 'n']\n",
            "[10, 100, 20, 30]\n",
            "[10, 100, 20, 30] [10, 100, 20, 30]\n",
            "[10, 100, 20, 30, 40] [10, 100, 20, 30]\n",
            "[10, 20, 30, 50, 60]\n",
            "[10, 20, 30, 50, 60, 20, 30]\n"
          ]
        }
      ]
    },
    {
      "cell_type": "code",
      "source": [
        "\n",
        "# LIST delete \n",
        "#pop: remove based on index\n",
        "l=[10,20,30]\n",
        "r= l.pop()\n",
        "print(l,r)\n",
        "r1= l.pop(1)\n",
        "print(l,r1)\n",
        "\n",
        "#remove: remove based on value\n",
        "l1=[1,2,3,2]\n",
        "r2= l1.remove(2)\n",
        "print(l1)\n",
        "r2= l1.remove(2)\n",
        "print(l1)\n",
        "\n",
        "#clear:remove all the elements in list\n",
        "l1.clear()\n",
        "print(l1)\n",
        "\n",
        "#del: delete completly from memory location\n",
        "#del l1\n",
        "#print(l1)\n"
      ],
      "metadata": {
        "colab": {
          "base_uri": "https://localhost:8080/"
        },
        "id": "TM4ruZ2IoDAn",
        "outputId": "fa523dce-c349-46ca-a5e8-8f462a799041"
      },
      "execution_count": null,
      "outputs": [
        {
          "output_type": "stream",
          "name": "stdout",
          "text": [
            "[10, 20] 30\n",
            "[10] 20\n",
            "[1, 3, 2]\n",
            "[1, 3]\n",
            "[]\n"
          ]
        }
      ]
    },
    {
      "cell_type": "code",
      "source": [
        "#DICTIONARY\n",
        "#UPDATE\n",
        "d= {\"ab\":20, \"bc\":30, \"cd\":40}\n",
        "print(d)\n",
        "d[\"de\"]=50   #this is add opeartion\n",
        "print(d)\n",
        "d[\"de\"]=60 #this is update operation\n",
        "print(d)\n",
        "d1={1:10,2:20}\n",
        "print(d1)\n",
        "d2={3:30,4:40}\n",
        "d1.update(d2)\n",
        "print(d1)\n",
        "d= {\"ab\":20, \"bc\":30, \"cd\":40}\n",
        "\n",
        "#get and setdefualt\n",
        "print(d[\"ab\"]) # if key deoest exits gives key error\n",
        "print(d.get(\"ab\"))#if key deoest exits doesnot give error\n",
        "print(d.get(\"hg\")) #output:none\n",
        "\n",
        "#To excute the default value\n",
        "print(d.get(\"hg\", \"key not found\"))\n",
        "\n",
        "#To add the  default value to d \n",
        "d.setdefault(\"hg\")\n",
        "print(d) \n",
        "d.setdefault(\"se\",50)\n",
        "print(d)\n",
        "\n",
        "\n",
        "\n"
      ],
      "metadata": {
        "colab": {
          "base_uri": "https://localhost:8080/"
        },
        "id": "5oM43SREvZbh",
        "outputId": "3ef3c596-013c-4197-fceb-c6c5b0ddd3a9"
      },
      "execution_count": null,
      "outputs": [
        {
          "output_type": "stream",
          "name": "stdout",
          "text": [
            "{'ab': 20, 'bc': 30, 'cd': 40}\n",
            "{'ab': 20, 'bc': 30, 'cd': 40, 'de': 50}\n",
            "{'ab': 20, 'bc': 30, 'cd': 40, 'de': 60}\n",
            "{1: 10, 2: 20}\n",
            "{1: 10, 2: 20, 3: 30, 4: 40}\n",
            "20\n",
            "20\n",
            "None\n",
            "key not found\n",
            "{'ab': 20, 'bc': 30, 'cd': 40, 'hg': None}\n",
            "{'ab': 20, 'bc': 30, 'cd': 40, 'hg': None, 'se': 50}\n"
          ]
        }
      ]
    },
    {
      "cell_type": "code",
      "source": [
        "#DICTIONARY DELETE\n",
        "d1= {1:20, 2:30, 3:40}\n",
        "#pop: pop(key) , retuns the value of that key\n",
        "r= d1.pop(2)\n",
        "print(d1,r)\n",
        "#popitem: doent take any arguement,it radomly remove one pair: returns key value pair\n",
        "r= d1.popitem()\n",
        "print(d1,r)\n",
        "#clear clears the dict\n",
        "d1.clear()\n",
        "#del : deleete from memory\n",
        "#del d1"
      ],
      "metadata": {
        "colab": {
          "base_uri": "https://localhost:8080/"
        },
        "id": "7wO6qnYQx7Kj",
        "outputId": "25ed7526-0a88-4565-be4a-a2ef63bf4635"
      },
      "execution_count": null,
      "outputs": [
        {
          "output_type": "stream",
          "name": "stdout",
          "text": [
            "{1: 20, 3: 40} 30\n",
            "{1: 20} (3, 40)\n"
          ]
        }
      ]
    },
    {
      "cell_type": "code",
      "source": [
        "#SET UPDATE\n",
        "\n",
        "s={100,200}\n",
        "s.add(300)\n",
        "print(s)\n",
        "\n",
        "#to update original set\n",
        "s1={10,20,30,40,50,60} \n",
        "s2= {40,50,60,70,80,90}\n",
        "s1.update(s2)   # same as union but chANGES ORIGINAL SET\n",
        "s1.intersection_update(s2)\n",
        "s1.difference_update(s2)\n",
        "s1.symmetric_difference_update(s2)\n",
        "\n",
        "\n"
      ],
      "metadata": {
        "id": "MeNauTTLwKFM",
        "colab": {
          "base_uri": "https://localhost:8080/"
        },
        "outputId": "b1de60a0-e792-4207-d297-79f38aabd43e"
      },
      "execution_count": null,
      "outputs": [
        {
          "output_type": "stream",
          "name": "stdout",
          "text": [
            "{200, 100, 300}\n"
          ]
        }
      ]
    },
    {
      "cell_type": "code",
      "source": [
        "#SET DELETE\n",
        "\n",
        "s={10,20,30,40,50,60} \n",
        "r= s.pop()\n",
        "print(s,r)\n",
        "s.remove(20)\n",
        "print(s)\n",
        "\n",
        "#discard: diff between remove and discard: it doesnot throw error if value doesnot exit\n",
        "s.discard(20)\n",
        "print(s)\n",
        "{10,30,40,50,60}\n",
        "s.clear()\n",
        "#del s"
      ],
      "metadata": {
        "colab": {
          "base_uri": "https://localhost:8080/"
        },
        "id": "xsy1etDm2Ayb",
        "outputId": "6012a5ce-e1b6-46c3-bcb7-f84d810487ac"
      },
      "execution_count": null,
      "outputs": [
        {
          "output_type": "stream",
          "name": "stdout",
          "text": [
            "{10, 50, 20, 60, 30} 40\n",
            "{10, 50, 60, 30}\n",
            "{10, 50, 60, 30}\n"
          ]
        }
      ]
    },
    {
      "cell_type": "code",
      "source": [
        "#CONVERSION\n",
        "#Split and joint\n",
        "\n",
        "s= \"abd, bcd, fg\"\n",
        "l= s.split(\",\") #on basis of comma \n",
        "print(l)# print list\n",
        "\n",
        "s1= (\" \").join(l)\n",
        "print(s1)"
      ],
      "metadata": {
        "id": "kxLo9s5t2kDb",
        "colab": {
          "base_uri": "https://localhost:8080/"
        },
        "outputId": "3f997fa3-d616-4d42-8a34-3fbea9cb84e2"
      },
      "execution_count": null,
      "outputs": [
        {
          "output_type": "stream",
          "name": "stdout",
          "text": [
            "['abd', ' bcd', ' fg']\n",
            "abd  bcd  fg\n"
          ]
        }
      ]
    },
    {
      "cell_type": "code",
      "source": [
        "#list to tuple conversion AND #tuple to list convertion\n",
        "\n",
        "l= [10,20,30]\n",
        "t=tuple(l)\n",
        "print(t)\n",
        "t= (10,20,30)\n",
        "l=list(t)\n",
        "print(l)"
      ],
      "metadata": {
        "colab": {
          "base_uri": "https://localhost:8080/"
        },
        "id": "KWgmNzaK3EFW",
        "outputId": "636b0e0b-bc3e-4774-a689-fb527595d121"
      },
      "execution_count": null,
      "outputs": [
        {
          "output_type": "stream",
          "name": "stdout",
          "text": [
            "(10, 20, 30)\n",
            "[10, 20, 30]\n"
          ]
        }
      ]
    },
    {
      "cell_type": "code",
      "source": [
        "#List to dictionary\n",
        "\n",
        "l1= [10,20,30]\n",
        "l2= [100,200,300]\n",
        "d= dict(zip(l1,l2))\n",
        "print(d)\n",
        "#output: {10:100,20:200,30:300}\n",
        "#DICT TO LIST\n",
        "\n",
        "print(d.keys())   #% output will be list of keys\n",
        "print(d.values())   #% output will be list of values\n",
        "print(d.items())    #% output will be list of key , value pair\n",
        "\n",
        "\n",
        "\n",
        "# SET DEFAULT VALUE TO DICTIONARY UISNG GIVEN LIST\n",
        "l= [10,20,30]\n",
        "d= dict.fromkeys(l,20) # sets the default value \n",
        "print(d)"
      ],
      "metadata": {
        "colab": {
          "base_uri": "https://localhost:8080/"
        },
        "id": "qDQZKaFl34YO",
        "outputId": "70c63521-8d2a-4331-fb17-f3ea74a7e2e3"
      },
      "execution_count": null,
      "outputs": [
        {
          "output_type": "stream",
          "name": "stdout",
          "text": [
            "{10: 100, 20: 200, 30: 300}\n",
            "dict_keys([10, 20, 30])\n",
            "dict_values([100, 200, 300])\n",
            "dict_items([(10, 100), (20, 200), (30, 300)])\n",
            "{10: 20, 20: 20, 30: 20}\n"
          ]
        }
      ]
    },
    {
      "cell_type": "code",
      "source": [
        "#list to set\n",
        "\n",
        "l1= [10,20,30,30]\n",
        "s=set(l1)\n",
        "print(s)\n",
        "\n",
        "l=list(s)\n",
        "print(l)"
      ],
      "metadata": {
        "colab": {
          "base_uri": "https://localhost:8080/"
        },
        "id": "9g29xL414ekt",
        "outputId": "b89db2bc-d0ee-4549-c598-f926e4575e93"
      },
      "execution_count": null,
      "outputs": [
        {
          "output_type": "stream",
          "name": "stdout",
          "text": [
            "{10, 20, 30}\n",
            "[10, 20, 30]\n"
          ]
        }
      ]
    },
    {
      "cell_type": "code",
      "source": [],
      "metadata": {
        "id": "raoMd_Vw4ehW"
      },
      "execution_count": null,
      "outputs": []
    },
    {
      "cell_type": "markdown",
      "source": [],
      "metadata": {
        "id": "K5x7YOHj2wTH"
      }
    },
    {
      "cell_type": "markdown",
      "source": [
        "EXPT2:\n",
        "A) Write a python program to perform different operations on list. \n",
        "B) Write a program to find the maximum number from the list. \n",
        "C) Convert 2 lists  into sorted single list with unique elements using Set\n",
        "D)Python program to check if a string is palindrome or not"
      ],
      "metadata": {
        "id": "IOBhFLSI2qiX"
      }
    },
    {
      "cell_type": "markdown",
      "source": [
        "A) Write a python program to perform different operations on list. "
      ],
      "metadata": {
        "id": "3cVNuOc62gbJ"
      }
    },
    {
      "cell_type": "code",
      "source": [],
      "metadata": {
        "id": "yStGa5uc2fvi"
      },
      "execution_count": null,
      "outputs": []
    },
    {
      "cell_type": "code",
      "source": [],
      "metadata": {
        "id": "05bZWewR2iVq"
      },
      "execution_count": null,
      "outputs": []
    },
    {
      "cell_type": "markdown",
      "source": [
        "B) Write a program to find the maximum number from the list. "
      ],
      "metadata": {
        "id": "pXiROpiQ2jyi"
      }
    },
    {
      "cell_type": "code",
      "source": [
        "sorted\n",
        "-1"
      ],
      "metadata": {
        "id": "OQvd_ik72leK"
      },
      "execution_count": null,
      "outputs": []
    },
    {
      "cell_type": "markdown",
      "source": [
        "C) Convert 2 lists  into sorted single list with unique elements using Set "
      ],
      "metadata": {
        "id": "lz7vGnkW2mL_"
      }
    },
    {
      "cell_type": "code",
      "source": [
        "l1=[10,20,30,20,40,50,]\n",
        "l2=[10,2,20,50,5,5,]\n",
        "l=[2,5,10,20,30,40,50]\n",
        "s1=set(l1)\n",
        "s2\n",
        "s1unions2\n",
        "print(s)\n",
        "set to list\n",
        "sort\n"
      ],
      "metadata": {
        "colab": {
          "base_uri": "https://localhost:8080/"
        },
        "id": "KbVdnMUp2oT4",
        "outputId": "92c37895-53e9-491c-8359-6cebaf0a5a6b"
      },
      "execution_count": null,
      "outputs": [
        {
          "output_type": "stream",
          "name": "stdout",
          "text": [
            "{40, 10, 50, 20, 30}\n"
          ]
        }
      ]
    },
    {
      "cell_type": "markdown",
      "source": [
        "D)Python program to check if a string is palindrome or not"
      ],
      "metadata": {
        "id": "bk4hGkq22opX"
      }
    },
    {
      "cell_type": "code",
      "source": [
        "reverse\n",
        "[::-1]\n",
        "if s==srev\n",
        "\n"
      ],
      "metadata": {
        "id": "KQDp-ISy24dh"
      },
      "execution_count": null,
      "outputs": []
    },
    {
      "cell_type": "markdown",
      "source": [
        "EXPT3:  A)Write a Python program to map two lists into a dictionary.B) WRITE A PROGRAM TO FIND Maximum and Minimum K elements in Tuple Using slicing + sorted()"
      ],
      "metadata": {
        "id": "ZMmFkkZF25P8"
      }
    },
    {
      "cell_type": "markdown",
      "source": [
        " A)Write a Python program to map two lists into a dictionary."
      ],
      "metadata": {
        "id": "Xe3WQ7la3AIB"
      }
    },
    {
      "cell_type": "code",
      "source": [],
      "metadata": {
        "id": "yg3MrNGv3CWJ"
      },
      "execution_count": null,
      "outputs": []
    },
    {
      "cell_type": "markdown",
      "source": [
        "B) WRITE A PROGRAM TO FIND Maximum and Minimum K elements in Tuple Using slicing + sorted()"
      ],
      "metadata": {
        "id": "cINwAB5G3DAv"
      }
    },
    {
      "cell_type": "code",
      "source": [
        "convert tuple to list\n",
        "sort the list\n",
        "k=2\n",
        "[10,20,30,40,50,60]\n",
        "[10,20,50,60]\n",
        "\n",
        "temp[:k]+temp[-k:]"
      ],
      "metadata": {
        "id": "ALYOTRk33D-g"
      },
      "execution_count": null,
      "outputs": []
    },
    {
      "cell_type": "markdown",
      "source": [
        "Program to add two numbers"
      ],
      "metadata": {
        "id": "0fFpD41yNvbU"
      }
    },
    {
      "cell_type": "code",
      "source": [
        "#Addition of two numbers:\n",
        "a=56.6\n",
        "b=45.5\n",
        "sum=a+b\n",
        "print(\"Addition of two numbers:\",sum)"
      ],
      "metadata": {
        "colab": {
          "base_uri": "https://localhost:8080/"
        },
        "id": "diDMXTffJZ1W",
        "outputId": "99ae6c1d-f7b5-4ed0-ff2a-052a0ec7f69a"
      },
      "execution_count": null,
      "outputs": [
        {
          "output_type": "stream",
          "name": "stdout",
          "text": [
            "Addition of two numbers: 102.1\n"
          ]
        }
      ]
    },
    {
      "cell_type": "markdown",
      "source": [
        "adding using input method"
      ],
      "metadata": {
        "id": "0J1CFT2AN2CY"
      }
    },
    {
      "cell_type": "code",
      "source": [
        "#By using Input Method:\n",
        "num1= float(input(\"Enter Number 1:\"))\n",
        "num2=float(input(\"Enter number 2:\"))\n",
        "print(\"addition of two numbers:\",num1+num2)"
      ],
      "metadata": {
        "colab": {
          "base_uri": "https://localhost:8080/"
        },
        "id": "MjYrIdIlKU6o",
        "outputId": "4604c749-0f5a-4a09-ce65-a3a1a679955c"
      },
      "execution_count": null,
      "outputs": [
        {
          "output_type": "stream",
          "name": "stdout",
          "text": [
            "Enter Number 1:34.8\n",
            "Enter number 2:42.9\n",
            "addition of two numbers: 77.69999999999999\n"
          ]
        }
      ]
    },
    {
      "cell_type": "markdown",
      "source": [
        "Adding n numbers"
      ],
      "metadata": {
        "id": "BLZfqItaN6QR"
      }
    },
    {
      "cell_type": "code",
      "source": [
        "n=int(input(\"Enter number:\"))\n",
        "if n<0:\n",
        "   print(\"Enter positive number.\")\n",
        "else:\n",
        "   sum=0\n",
        "   while(n>0):\n",
        "         sum+=n\n",
        "         n-=1\n",
        "   print(\"The sum is:\", sum)         \n",
        "\n"
      ],
      "metadata": {
        "colab": {
          "base_uri": "https://localhost:8080/"
        },
        "id": "sTrDh2neNkC2",
        "outputId": "8ab56282-271c-47a0-8633-a0a0661ed565"
      },
      "execution_count": null,
      "outputs": [
        {
          "output_type": "stream",
          "name": "stdout",
          "text": [
            "Enter number:200\n",
            "The sum is: 20100\n"
          ]
        }
      ]
    },
    {
      "cell_type": "markdown",
      "source": [
        "find largest number among 3 numbers"
      ],
      "metadata": {
        "id": "cG99C3DEN_C_"
      }
    },
    {
      "cell_type": "code",
      "source": [
        "num1=float(input(\"Enter number 1:\"))\n",
        "num2=float(input(\"Enter number 2:\"))\n",
        "num3=float(input(\"Enter number 3:\"))\n",
        "if (num1 > num3) and (num1 > num2):\n",
        "    largest= num1\n",
        "elif (num2 > num3) and (num2 > num1):\n",
        "    largest=num2\n",
        "else:\n",
        "     largest= num3\n",
        "print(\"The largest number is:\", largest)              "
      ],
      "metadata": {
        "colab": {
          "base_uri": "https://localhost:8080/"
        },
        "id": "jb8u-bnPRold",
        "outputId": "26c9c52a-0dfb-46d2-827d-df28d06701f4"
      },
      "execution_count": null,
      "outputs": [
        {
          "output_type": "stream",
          "name": "stdout",
          "text": [
            "Enter number 1:45\n",
            "Enter number 2:56\n",
            "Enter number 3:67\n",
            "The largest number is: 67.0\n"
          ]
        }
      ]
    },
    {
      "cell_type": "code",
      "source": [
        "list1=[1,2,3,4,5, 4.5, \"sakec\",[8,9,10]]\n",
        "print(list1)"
      ],
      "metadata": {
        "colab": {
          "base_uri": "https://localhost:8080/"
        },
        "id": "o3I0vooXXpQN",
        "outputId": "73a244b9-11fc-479c-d26d-ec120d0224c7"
      },
      "execution_count": null,
      "outputs": [
        {
          "output_type": "stream",
          "name": "stdout",
          "text": [
            "[1, 2, 3, 4, 5, 4.5, 'sakec', [8, 9, 10]]\n"
          ]
        }
      ]
    },
    {
      "cell_type": "code",
      "source": [
        "datalist = [1,[1001,\"John\",45.5],[1002,\"Snadra\",56.5]]\n",
        "print(datalist[1][2])\n",
        "print(datalist[2][0])\n"
      ],
      "metadata": {
        "colab": {
          "base_uri": "https://localhost:8080/"
        },
        "id": "P9T6bef0Yqze",
        "outputId": "31d64f0d-123b-414d-faad-99b2293e1c6e"
      },
      "execution_count": null,
      "outputs": [
        {
          "output_type": "stream",
          "name": "stdout",
          "text": [
            "45.5\n",
            "1002\n"
          ]
        }
      ]
    },
    {
      "cell_type": "code",
      "source": [
        "datalist = [23,45,31,53,62]\n",
        "print(datalist[-4:-2])\n",
        "\n"
      ],
      "metadata": {
        "id": "FzKOdZplaUTZ",
        "colab": {
          "base_uri": "https://localhost:8080/"
        },
        "outputId": "71a0c4ac-c96f-419c-b00e-e974b7a644b8"
      },
      "execution_count": null,
      "outputs": [
        {
          "output_type": "stream",
          "name": "stdout",
          "text": [
            "[45, 31]\n"
          ]
        }
      ]
    },
    {
      "cell_type": "code",
      "source": [
        "num1= float(input(\"Enter number1:\"))\n",
        "num2= float(input(\"Enter number 2:\"))\n",
        "print(\"Addition of two numbers is\", num1+num2)"
      ],
      "metadata": {
        "colab": {
          "base_uri": "https://localhost:8080/"
        },
        "id": "MVSXwKJhSCwo",
        "outputId": "c50c1559-da29-4021-84a7-a3c57bd04db2"
      },
      "execution_count": null,
      "outputs": [
        {
          "output_type": "stream",
          "name": "stdout",
          "text": [
            "Enter number1:56\n",
            "Enter number 2:22\n",
            "Addition of two numbers is 5622\n"
          ]
        }
      ]
    },
    {
      "cell_type": "code",
      "source": [
        "datalist = [23,45,31,53,62]\n",
        "datalist.extend([76,23,15])\n",
        "print(datalist)\n"
      ],
      "metadata": {
        "colab": {
          "base_uri": "https://localhost:8080/"
        },
        "id": "h-8c90VyU0Z_",
        "outputId": "ce313a03-d8a4-4645-ed6e-ca19f71b2437"
      },
      "execution_count": null,
      "outputs": [
        {
          "output_type": "stream",
          "name": "stdout",
          "text": [
            "[23, 45, 31, 53, 62, 76, 23, 15]\n"
          ]
        }
      ]
    },
    {
      "cell_type": "markdown",
      "source": [
        "LIst methods"
      ],
      "metadata": {
        "id": "AGJcTwnnOGGz"
      }
    },
    {
      "cell_type": "code",
      "source": [
        "datalist = [23,45,31,53,62]\n",
        "datalist.append(39)\n",
        "datalist.extend([76,23,15])\n",
        "print(datalist)\n",
        "datalist.insert(2,62)\n",
        "print(datalist)\n",
        "datalist.remove(23)\n",
        "print(datalist)\n",
        "print(datalist.index(53))\n",
        "print(datalist.count(45))\n",
        "datalist.pop()\n",
        "print(datalist)\n",
        "print(datalist.copy())\n",
        "datalist.reverse()\n",
        "print(datalist)\n",
        "datalist.sort()\n",
        "print(datalist)\n",
        "print(datalist.clear())\n"
      ],
      "metadata": {
        "colab": {
          "base_uri": "https://localhost:8080/"
        },
        "id": "bej7Xx3JjZxe",
        "outputId": "6a8eba35-8288-48e0-e7d6-218190662a50"
      },
      "execution_count": null,
      "outputs": [
        {
          "output_type": "stream",
          "name": "stdout",
          "text": [
            "[23, 45, 31, 53, 62, 39, 76, 23, 15]\n",
            "[23, 45, 62, 31, 53, 62, 39, 76, 23, 15]\n",
            "[45, 62, 31, 53, 62, 39, 76, 23, 15]\n",
            "3\n",
            "1\n",
            "[45, 62, 31, 53, 62, 39, 76, 23]\n",
            "[45, 62, 31, 53, 62, 39, 76, 23]\n",
            "[23, 76, 39, 62, 53, 31, 62, 45]\n",
            "[23, 31, 39, 45, 53, 62, 62, 76]\n",
            "None\n"
          ]
        }
      ]
    }
  ]
}