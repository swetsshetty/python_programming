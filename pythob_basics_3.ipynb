{
  "nbformat": 4,
  "nbformat_minor": 0,
  "metadata": {
    "colab": {
      "provenance": [],
      "collapsed_sections": []
    },
    "kernelspec": {
      "name": "python3",
      "display_name": "Python 3"
    },
    "language_info": {
      "name": "python"
    }
  },
  "cells": [
    {
      "cell_type": "markdown",
      "source": [
        "FUNCTION\n",
        "Function: code reuse,modularity"
      ],
      "metadata": {
        "id": "WMQiOSZHLgS9"
      }
    },
    {
      "cell_type": "markdown",
      "source": [
        " ** IN-BUILT FUNCTIONS**"
      ],
      "metadata": {
        "id": "e239WL9bMPvF"
      }
    },
    {
      "cell_type": "code",
      "source": [
        "s= \"python, HTML\"\n",
        "print(s.index(\"HTML\"))"
      ],
      "metadata": {
        "colab": {
          "base_uri": "https://localhost:8080/"
        },
        "id": "kzaHCi2RMLWG",
        "outputId": "34c57c8e-740e-4366-ec61-2a9ae6536eb4"
      },
      "execution_count": null,
      "outputs": [
        {
          "output_type": "stream",
          "name": "stdout",
          "text": [
            "8\n"
          ]
        }
      ]
    },
    {
      "cell_type": "markdown",
      "source": [
        "** USER DEFINED FUNCTION**\n",
        "\n",
        "#HOW TO DEFINE A FUNCTION  \n",
        "1.   #FUNCTION CALL\n",
        "2.   #FUNCTION DEFINATION\n"
      ],
      "metadata": {
        "id": "Ey08vCCdL4A7"
      }
    },
    {
      "cell_type": "code",
      "source": [
        "# function to reverse a number\n",
        "#function defination\n",
        "def value_reverse(value):\n",
        "\t reverse=value[::-1]\n",
        "\t print(reverse)\n",
        "\n",
        "s=\"python\"\n",
        "# function call\n",
        "result= value_reverse(s)\n",
        "print(result)"
      ],
      "metadata": {
        "colab": {
          "base_uri": "https://localhost:8080/"
        },
        "id": "KpoQzLXUM3ND",
        "outputId": "79a9e196-6f7f-4cc2-ef67-e8bd06a02066"
      },
      "execution_count": null,
      "outputs": [
        {
          "output_type": "stream",
          "name": "stdout",
          "text": [
            "nohtyp\n",
            "None\n"
          ]
        }
      ]
    },
    {
      "cell_type": "code",
      "source": [
        "# function to reverse a number with return value\n",
        "def value_reverse(value):\n",
        "    reverse=value[::-1]\n",
        "    print(reverse)\n",
        "    return reverse\n",
        "s=\"python\"\n",
        "result= value_reverse(s)\n",
        "print(result)"
      ],
      "metadata": {
        "colab": {
          "base_uri": "https://localhost:8080/"
        },
        "id": "Khrkg7ekNOT6",
        "outputId": "c30a38db-8089-4280-e87c-9af3cf2c0102"
      },
      "execution_count": null,
      "outputs": [
        {
          "output_type": "stream",
          "name": "stdout",
          "text": [
            "nohtyp\n",
            "nohtyp\n"
          ]
        }
      ]
    },
    {
      "cell_type": "code",
      "source": [
        "\n",
        "l=[100,200,300]\n",
        "result= value_reverse(l)\n",
        "#num=100\n",
        "#result= value_reverse(num)"
      ],
      "metadata": {
        "colab": {
          "base_uri": "https://localhost:8080/"
        },
        "id": "7oXONxKAN4Eh",
        "outputId": "f7e0e2d2-dd16-4f4a-f306-fcca5395410d"
      },
      "execution_count": null,
      "outputs": [
        {
          "output_type": "stream",
          "name": "stdout",
          "text": [
            "[300, 200, 100]\n"
          ]
        }
      ]
    },
    {
      "cell_type": "code",
      "source": [
        "#in function data type is not mentioned: \n",
        "def value_reverse(value):\n",
        "  if type(value)==list or type(value)==str:\n",
        "    reverse=value[::-1]\n",
        "  else:\n",
        "   temp=str(value)\n",
        "   reverse=temp[::-1]\n",
        "  return reverse\n",
        "l=[100,200,300]\n",
        "result= value_reverse(l) \n",
        "print(result)\n",
        "num=100\n",
        "result= value_reverse(num)\n",
        "print(result)"
      ],
      "metadata": {
        "colab": {
          "base_uri": "https://localhost:8080/"
        },
        "id": "4o5MRr8TOsWn",
        "outputId": "c59005dc-2433-4f2e-f0aa-0307dd3d71cc"
      },
      "execution_count": null,
      "outputs": [
        {
          "output_type": "stream",
          "name": "stdout",
          "text": [
            "[300, 200, 100]\n",
            "001\n"
          ]
        }
      ]
    },
    {
      "cell_type": "markdown",
      "source": [
        "*PARAMETER PASSING TECHNIQUES*\n",
        "\n",
        "1.   POSITIONAL ARGUEMENT\n",
        "2.   DEFUALT ARGUEMENT\n",
        "3.   KEYWORD ARGUEMENT\n",
        "4.   VARIABLE LENGTH POSITIONAL ARGUEMENT\n",
        "5.   VARIABLE LENGTH KEYWORD ARGUEMENT\n"
      ],
      "metadata": {
        "id": "Rj5xPSJQQwuK"
      }
    },
    {
      "cell_type": "markdown",
      "source": [
        "**1. POSITIONAL ARGUEMENT**\n",
        "\n",
        "\n",
        "*   if the total of arguements in function call and defination are same then that arguement system is called positional arguement. arguement count sgould be same\n",
        "*   1st arguemnt is mapped to 1st and 2nd to 2nd and so on...\n",
        "\n",
        "\n"
      ],
      "metadata": {
        "id": "0WBw9UExYAaI"
      }
    },
    {
      "cell_type": "code",
      "source": [
        "def linear_search(l, key):\n",
        "    for value in l:\n",
        "        if key==value:\n",
        "            return True\n",
        "    else:            \n",
        "        return False\n",
        "\n",
        "\n",
        "\n",
        "l= [100,200,300,400,500]\n",
        "key=4000\n",
        "linear_search(l, key) # true or false based on presence of key \n",
        "result = linear_search(l, key)\n",
        "print(result)"
      ],
      "metadata": {
        "colab": {
          "base_uri": "https://localhost:8080/"
        },
        "id": "wqcy4CbhQvY_",
        "outputId": "593576b6-e879-408b-cfee-bff48b5a0781"
      },
      "execution_count": null,
      "outputs": [
        {
          "output_type": "stream",
          "name": "stdout",
          "text": [
            "False\n"
          ]
        }
      ]
    },
    {
      "cell_type": "markdown",
      "source": [
        "**2. DEFUALT ARGUEMENT**"
      ],
      "metadata": {
        "id": "nD-KlPGeaJSj"
      }
    },
    {
      "cell_type": "code",
      "source": [
        "#8 char password\n",
        "#1 upper, 1lowe, 1 special char, 5 digits\n",
        "### ord and chr\n",
        "#print(ord('a')) # returns ascii value\n",
        "#print(chr(97)) # returns a \n",
        "#find the range of ascii lower case and upper case\n",
        "#print(ord('a'),ord('z'))\n",
        "#print(ord('A'),ord('Z'))\n",
        "## write a function to generate PASSWORD : if i  give password length as n it shud generate n lenth password or else by default it geneartes password of lentgth=8 it should generete 3 by default it takes as 8 \n",
        "\n",
        "import random\n",
        "def gen_password(length=8): # by defualt it takes as 8 \n",
        "  l= ['@','#','$','&','!']\n",
        "  upper= chr(random.randint(65,90))\n",
        "  lower= chr(random.randint(97,122))\n",
        "  special= random.choice(l)\n",
        "  digit=random.randint(10000,99999)\n",
        "  password=upper+lower+special+str(digit)  # to concantenaTE digit is int so convert to str\n",
        "  l=random.sample(password, length) \n",
        "  password=(\"\").join(l)\n",
        "  return password\n",
        "result = gen_password(5)\n",
        "print(result)\n",
        "result = gen_password()\n",
        "print(result)"
      ],
      "metadata": {
        "colab": {
          "base_uri": "https://localhost:8080/"
        },
        "id": "IE42MrnuaLsX",
        "outputId": "37483bf7-cddb-4fd6-d4d0-6a219ee3f026"
      },
      "execution_count": null,
      "outputs": [
        {
          "output_type": "stream",
          "name": "stdout",
          "text": [
            "97\n",
            "a\n",
            "97 122\n",
            "65 90\n",
            "P7525\n",
            "7q#5X327\n"
          ]
        }
      ]
    },
    {
      "cell_type": "markdown",
      "source": [
        "**3. KEYWORD ARGUEMENT**"
      ],
      "metadata": {
        "id": "ZSqEnsurjrwW"
      }
    },
    {
      "cell_type": "code",
      "source": [
        "#to validate username ans password\n",
        "def validate(username,password):\n",
        "  if username==\"ABC\" and password==\"Abc@123\":\n",
        "    print(\"valid password\")\n",
        "  else:\n",
        "    print(\"Invalid password\")\n",
        "validate(\"ABC\", \"Abc@123\")\n",
        "validate(\"Abc@123\",\"ABC\") # gives o/p as invalid password\n",
        "\n",
        "validate(password=\"Abc@123\",username=\"ABC\") # explicitly specifying the parameters\n"
      ],
      "metadata": {
        "colab": {
          "base_uri": "https://localhost:8080/"
        },
        "id": "r_nU_vKNjtGh",
        "outputId": "745a11c6-fe94-4df9-aef0-af90af71373f"
      },
      "execution_count": null,
      "outputs": [
        {
          "output_type": "stream",
          "name": "stdout",
          "text": [
            "valid password\n",
            "Invalid password\n",
            "valid password\n"
          ]
        }
      ]
    },
    {
      "cell_type": "markdown",
      "source": [
        "default value for seperator in print is space and for new line its /n\n",
        "print(100,200)\n",
        "print(\"hi\") \n",
        "o/p: 100 200\n",
        "     Hi\n",
        "using keyword parameter  sep-, and end=\"\"\n",
        "\n",
        "print(100,200,sep=\",\"end=\" \")\n",
        "print(\"hi\")"
      ],
      "metadata": {
        "id": "TMlWghTklpZK"
      }
    },
    {
      "cell_type": "markdown",
      "source": [
        "**4. VARIABLE LENGTH POSITIONAL ARGUEMENT**"
      ],
      "metadata": {
        "id": "shIRdoZWm8eo"
      }
    },
    {
      "cell_type": "markdown",
      "source": [
        "Write a functions to add multiple elements to a list [as append can add only 1 element]"
      ],
      "metadata": {
        "id": "AWxESVFongo_"
      }
    },
    {
      "cell_type": "code",
      "source": [
        "def add_value(*t): #takes any no. of arguements it will convert this to tuple\n",
        "  l=[]\n",
        "  for value in t:\n",
        "    l.append(value)\n",
        "  return l\n",
        "# total no of parameters are not fixed\n",
        "result=add_value(100,200,300,400)\n",
        "print(result)\n",
        "reult=add_value(100,200)\n",
        "print(result)\n",
        "result=add_value(100,200,300,400,500,600)\n",
        "print(result)"
      ],
      "metadata": {
        "colab": {
          "base_uri": "https://localhost:8080/"
        },
        "id": "uPvi3kv9nDCI",
        "outputId": "4e889625-2ff2-47e0-ebbb-62200ba1002d"
      },
      "execution_count": null,
      "outputs": [
        {
          "output_type": "stream",
          "name": "stdout",
          "text": [
            "[100, 200, 300, 400]\n",
            "[100, 200, 300, 400]\n",
            "[100, 200, 300, 400, 500, 600]\n"
          ]
        }
      ]
    },
    {
      "cell_type": "markdown",
      "source": [],
      "metadata": {
        "id": "y-Rnw3sEtvHI"
      }
    },
    {
      "cell_type": "markdown",
      "source": [
        "**5. VARIABLE LENGTH KEYWORD ARGUEMNT**\n"
      ],
      "metadata": {
        "id": "pqnFjVybpOdM"
      }
    },
    {
      "cell_type": "markdown",
      "source": [
        "Write a function to fill a form where user can enter name,email,contact,dob in which name and email are mandit"
      ],
      "metadata": {
        "id": "zutaYLsNsu-A"
      }
    },
    {
      "cell_type": "code",
      "source": [
        "def get_details(**argu): # it will pass all aguements as dictionary\n",
        "  print(argu)\n",
        "\n",
        "get_details(name=\"ABC\",email=\"abc@gmail.com\", contact=8746527634, dob=\"12-05-2001\")\n",
        "get_details(name=\"ABC\",email=\"abc@gmail.com\", dob=\"12-05-2001\")\n",
        "get_details(name=\"ABC\",email=\"abc@gmail.com\", contact=8746527634,)\n"
      ],
      "metadata": {
        "colab": {
          "base_uri": "https://localhost:8080/"
        },
        "id": "9wiuQRditRzt",
        "outputId": "1ccb3916-39a5-4ca9-e6df-fc3f33c66719"
      },
      "execution_count": null,
      "outputs": [
        {
          "output_type": "stream",
          "name": "stdout",
          "text": [
            "{'name': 'ABC', 'email': 'abc@gmail.com', 'contact': 8746527634, 'dob': '12-05-2001'}\n",
            "{'name': 'ABC', 'email': 'abc@gmail.com', 'dob': '12-05-2001'}\n",
            "{'name': 'ABC', 'email': 'abc@gmail.com', 'contact': 8746527634}\n"
          ]
        }
      ]
    },
    {
      "cell_type": "markdown",
      "source": [
        "**RECURSIVE FUNCTIONS**\n",
        "\n",
        "\n",
        "*   If a function call to itself\n",
        "*   List item\n",
        "\n"
      ],
      "metadata": {
        "id": "dPOL6Ne6usPE"
      }
    },
    {
      "cell_type": "code",
      "source": [
        "#factorial of number\n",
        "def factorial(num):\n",
        "    if num==1:\n",
        "      return 1\n",
        "    else:\n",
        "      return num*factorial(num-1)\n",
        "num1=5\n",
        "result=factorial(num1)\n",
        "print(result)"
      ],
      "metadata": {
        "colab": {
          "base_uri": "https://localhost:8080/"
        },
        "id": "CLkOxscWpVC6",
        "outputId": "f6995976-5b9c-455d-ff33-6f47c7775e87"
      },
      "execution_count": null,
      "outputs": [
        {
          "output_type": "stream",
          "name": "stdout",
          "text": [
            "120\n"
          ]
        }
      ]
    },
    {
      "cell_type": "code",
      "source": [
        "#binary sort\n",
        "#sorted list \n",
        "def binary_search(l,key):\n",
        "  \"\"\" Input a list and key return True if key exist else return False\"\"\" \n",
        "  if len(l)==0:\n",
        "    return False\n",
        "  else:\n",
        "    mid=len(l)//2\n",
        "    if l[mid]==key:\n",
        "      return True\n",
        "    elif l[mid]>key :\n",
        "      return binary_search(l[:mid],key)\n",
        "    else:\n",
        "      return binary_search(l[mid+1:],key)\n",
        "\n",
        "l=[100,200,300,400,500,600,700,800,900]\n",
        "key=1000\n",
        "result=binary_search(l,key)\n",
        "print(result)"
      ],
      "metadata": {
        "colab": {
          "base_uri": "https://localhost:8080/"
        },
        "id": "7UwVe9N8w_e4",
        "outputId": "d35878d2-ff22-4b2b-dfd2-def187b1a5b0"
      },
      "execution_count": null,
      "outputs": [
        {
          "output_type": "stream",
          "name": "stdout",
          "text": [
            "False\n"
          ]
        }
      ]
    },
    {
      "cell_type": "markdown",
      "source": [
        "**LAMDA** \n",
        "MAP\n",
        "FILTER\n",
        "DICT"
      ],
      "metadata": {
        "id": "gFy_6Fe_F_Sq"
      }
    },
    {
      "cell_type": "code",
      "source": [
        "#Lambda Function\n",
        "square = lambda x : x * x\n",
        "#Calling Lambda Function\n",
        "result=square(2)\n",
        "print(result)\n",
        "\n",
        "#The following lambda function does not return anything.\n",
        "\n",
        "greet = lambda name: print('Hello ', name) \n",
        "greet('Steve')\n",
        "\n",
        "#The following lambda function contains multiple parameters:\n",
        "sum = lambda x, y, z : x + y + z \n",
        "result=sum(5, 10, 15)\n",
        "print(result)\n",
        "\n",
        "#The following lambda function can take any number of parameters:\n",
        "\n",
        "sum = lambda *x: x[0]+x[1]+x[2]+x[3]  \n",
        "result=sum(5, 10, 15, 20)\n",
        "print(result)\n",
        "\n",
        "\n",
        "#Parameterless Lambda Function\n",
        "(lambda x: x*x)(10)"
      ],
      "metadata": {
        "colab": {
          "base_uri": "https://localhost:8080/"
        },
        "id": "LjhucGfJCOx_",
        "outputId": "7295fd53-5b6d-4ea7-9832-7a61f3d0bcdb"
      },
      "execution_count": null,
      "outputs": [
        {
          "output_type": "stream",
          "name": "stdout",
          "text": [
            "4\n",
            "Hello  Steve\n",
            "30\n",
            "50\n"
          ]
        },
        {
          "output_type": "execute_result",
          "data": {
            "text/plain": [
              "100"
            ]
          },
          "metadata": {},
          "execution_count": 4
        }
      ]
    },
    {
      "cell_type": "markdown",
      "source": [
        "MAP: To perform any operations on individual elements"
      ],
      "metadata": {
        "id": "IhMf-KcNKA0g"
      }
    },
    {
      "cell_type": "code",
      "source": [
        "#MAP: it is a Function takes another function as arguement ie it accepts one value and it gives result of that value\n",
        "# square\n",
        "\n",
        "def sqr(num1):\n",
        "  return num1**2\n",
        "l=[10,20,30,40,50,60]\n",
        "result=list(map(sqr,l))\n",
        "print(result)\n",
        "# to add elements of 2 lists\n",
        "def add(num1,num2):\n",
        "  return num1+num2\n",
        "l1= [100,200,300]\n",
        "l2=[10,20,30]\n",
        "result=list(map(add,l1,l2)) # o/p will be always as same length as input\n",
        "print(result)"
      ],
      "metadata": {
        "colab": {
          "base_uri": "https://localhost:8080/"
        },
        "id": "X7m2LhB9GRT3",
        "outputId": "e266752f-bdc5-4ac9-8c00-5a560497db50"
      },
      "execution_count": null,
      "outputs": [
        {
          "output_type": "stream",
          "name": "stdout",
          "text": [
            "[100, 400, 900, 1600, 2500, 3600]\n",
            "[110, 220, 330]\n"
          ]
        }
      ]
    },
    {
      "cell_type": "markdown",
      "source": [
        "**FILTER**\n",
        "it will filter out the elements for which ans is true"
      ],
      "metadata": {
        "id": "_gcjelkKIUSt"
      }
    },
    {
      "cell_type": "code",
      "source": [
        "#elements which are even number\n",
        "def even_check(num1):\n",
        "  if num1%2==0:\n",
        "    return True\n",
        "  else:\n",
        "    return False\n",
        "l=[100,115,120,135,140]\n",
        "result=list(filter(even_check,l))\n",
        "print(result)"
      ],
      "metadata": {
        "colab": {
          "base_uri": "https://localhost:8080/"
        },
        "id": "ZYoHFvpRHaIS",
        "outputId": "70d0af50-88cb-4219-acb2-3a138037d7c8"
      },
      "execution_count": null,
      "outputs": [
        {
          "output_type": "stream",
          "name": "stdout",
          "text": [
            "[100, 120, 140]\n"
          ]
        }
      ]
    },
    {
      "cell_type": "markdown",
      "source": [
        "**LAMDA**\n",
        "functions which contains very few lines can be defined as lamda "
      ],
      "metadata": {
        "id": "zS-scPIvKMDQ"
      }
    },
    {
      "cell_type": "code",
      "source": [
        "l=[10,20,30,40,50,60]\n",
        "result=list(map(lambda num1: num1**2,l))\n",
        "print(result)"
      ],
      "metadata": {
        "colab": {
          "base_uri": "https://localhost:8080/"
        },
        "id": "r4dVgeRLKOvK",
        "outputId": "b83836a0-2fb7-43a4-e050-1773b2c80723"
      },
      "execution_count": null,
      "outputs": [
        {
          "output_type": "stream",
          "name": "stdout",
          "text": [
            "[100, 400, 900, 1600, 2500, 3600]\n"
          ]
        }
      ]
    },
    {
      "cell_type": "code",
      "source": [
        "\n",
        "l=[100,115,120,135,140]\n",
        "result=list(filter(lambda num: num%2==0 ,l))\n",
        "print(result)"
      ],
      "metadata": {
        "colab": {
          "base_uri": "https://localhost:8080/"
        },
        "id": "vm_NPTDqLNYF",
        "outputId": "c650a867-d48f-4a95-bb20-e90733a2dd0f"
      },
      "execution_count": null,
      "outputs": [
        {
          "output_type": "stream",
          "name": "stdout",
          "text": [
            "[100, 120, 140]\n"
          ]
        }
      ]
    },
    {
      "cell_type": "code",
      "source": [
        "#sorting a dictionary based on value using lamda\n",
        "\n",
        "d={1:50,2:40,3:30,4:20}\n",
        "l=sorted(d.items(), key=lambda x: x[1]) # sort based on key value\n",
        "print(l)\n",
        "d=dict(l)\n",
        "print(d)"
      ],
      "metadata": {
        "colab": {
          "base_uri": "https://localhost:8080/"
        },
        "id": "Sc-tUNmrL9HB",
        "outputId": "6a8a3947-a206-4ffc-b7c9-a39496bd8503"
      },
      "execution_count": null,
      "outputs": [
        {
          "output_type": "stream",
          "name": "stdout",
          "text": [
            "[(4, 20), (3, 30), (2, 40), (1, 50)]\n",
            "{4: 20, 3: 30, 2: 40, 1: 50}\n"
          ]
        }
      ]
    }
  ]
}